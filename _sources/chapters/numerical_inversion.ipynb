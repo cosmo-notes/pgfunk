{
 "cells": [
  {
   "cell_type": "markdown",
   "id": "11809ad2-7971-4816-b92b-4905133da2a5",
   "metadata": {
    "tags": []
   },
   "source": [
    "# Inverting probability generating functions"
   ]
  },
  {
   "cell_type": "markdown",
   "id": "dc445744-1bfd-450c-b194-dcebadc4d49f",
   "metadata": {},
   "source": [
    "In most cases of interest, the PGF $G(x)$ is known *indirectly*, i.e., we know how to compute its value for any $x$, but we do not know the underlying coefficients. \n",
    "For instance, the PGF for the result of a roll of two six-sided dice is $G(x) = g(x)^2$, where "
   ]
  },
  {
   "cell_type": "markdown",
   "id": "3eb9e676-de0b-4dbc-b228-643d82be2181",
   "metadata": {},
   "source": [
    "$$\n",
    "g(x) = \\sum_{n = 1}^6 \\frac{1}{6} x^n\n",
    "$$"
   ]
  },
  {
   "cell_type": "markdown",
   "id": "9635935b-0933-4d55-b847-3656c89cae9f",
   "metadata": {},
   "source": [
    "is the PGF for the result of a roll of a single dice.\n",
    "While in this example it is straightforward to evaluate the coefficients, in many applications, $G(x)$ is constructed by multiplying and composing multiple functions together.\n",
    "In this chapter, we describe a systematic approach to extract the distribution $(p_n)_{n = 0}^\\infty$ from an arbitrary PGF $G(x)$."
   ]
  },
  {
   "cell_type": "markdown",
   "id": "8c362231-f9d6-4bfb-9e5d-a6dcd4b68223",
   "metadata": {},
   "source": [
    "By definition, the $n$-th term of the power series of $G(x)$ is"
   ]
  },
  {
   "cell_type": "markdown",
   "id": "a26ca8cb-5d9e-4074-a96a-bd5255b502aa",
   "metadata": {},
   "source": [
    "$$\n",
    "p_n = \\left.\\frac{1}{n!} \\frac{\\mathrm{d}^n}{\\mathrm{d}x^n} G(x) \\right|_{x = 0}\n",
    "$$"
   ]
  },
  {
   "cell_type": "markdown",
   "id": "8d6c7774-7f28-4a19-b231-b72a86f277a7",
   "metadata": {},
   "source": [
    "Using [Cauchy's integral formula](https://en.wikipedia.org/wiki/Cauchy%27s_integral_formula), we can transform this into an integral in the complex plane. Using a circle of radius $r$ as a contour around the origin (and brushing over the mathematical steps), we end up with the following Fourier integral to evaluate:"
   ]
  },
  {
   "cell_type": "markdown",
   "id": "dac82237-553a-4a83-94b2-83fcaf72ebcf",
   "metadata": {},
   "source": [
    "$$\n",
    "p_n = \\frac{1}{2\\pi r^n}\\int_{0}^{2\\pi} G\\left ( r e^{ i \\omega} \\right) e^{- i \\omega n} \\mathrm{d} \\omega \\;.\n",
    "$$"
   ]
  },
  {
   "cell_type": "markdown",
   "id": "72bab07a-8435-465d-9dbc-7f8bf90f0260",
   "metadata": {},
   "source": [
    "To verify that this formulae is true, expand $G(r e^{i\\omega})$ in a power series inside the integral to realize that only the $n$-th degree term contribute to the integral, all other terms are zero."
   ]
  },
  {
   "cell_type": "markdown",
   "id": "a271fcac-ba2f-438d-9468-b0892fa8ad3c",
   "metadata": {},
   "source": [
    ":::{seealso}\n",
    "When we choose $r = 1$, the term $G(e^{i\\omega})$ corresponds to the  [characteristic function](https://en.wikipedia.org/wiki/Characteristic_function_(probability_theory)) of the random variable.\n",
    ":::"
   ]
  },
  {
   "cell_type": "markdown",
   "id": "5db18009-f64b-4cb3-a404-9a82295799f0",
   "metadata": {},
   "source": [
    "## Polynomial generating function"
   ]
  },
  {
   "cell_type": "markdown",
   "id": "1772047a-df16-4ad4-9207-5bf57a398dcb",
   "metadata": {},
   "source": [
    "If $G(x)$ is a polynomial of degree $N-1$, meaning $p_n = 0$ for all $n \\geq N$, then the probability distribution is recovered exactly from a discrete Fourier transform"
   ]
  },
  {
   "cell_type": "markdown",
   "id": "d4a2e020-0cf2-4e49-95fc-1d0133263549",
   "metadata": {},
   "source": [
    "$$\n",
    "p_n = \\frac{1}{N r^n} \\sum_{m = 0}^{N-1} G(r e^{2 \\pi i m /N}) e^{2 \\pi i n m /N} \\;.\n",
    "$$"
   ]
  },
  {
   "cell_type": "markdown",
   "id": "bc5458a8-a0b8-4381-a2cb-6b94faf0f034",
   "metadata": {},
   "source": [
    "Again, one can verify that this is true by expanding $G(e^{2\\pi i m /N})$ into a power series and noting that only the $n$-th degree term is nonzero.\n",
    "Let us apply this technique to recover the distribution for the roll of two six-sided dice. \n",
    "For the sake of simplicity, let us use $r = 1$ for now."
   ]
  },
  {
   "cell_type": "markdown",
   "id": "2a32b1a1-7a51-42be-85f6-6760b643a3e5",
   "metadata": {},
   "source": [
    ":::{note}\n",
    "Since $g(x)$ is a polynomial of degree $6$, $G(x)$ is of degree $12$ and $N = 13$. \n",
    ":::"
   ]
  },
  {
   "cell_type": "code",
   "execution_count": 1,
   "id": "d4a90500-0fff-4641-b751-116fba5791cd",
   "metadata": {},
   "outputs": [
    {
     "data": {
      "image/png": "[encoded data removed]",
      "text/plain": [
       "<Figure size 432x288 with 1 Axes>"
      ]
     },
     "metadata": {
      "needs_background": "light"
     },
     "output_type": "display_data"
    }
   ],
   "source": [
    "import numpy as np\n",
    "import matplotlib.pyplot as plt\n",
    "\n",
    "g = lambda x: np.sum([x**n/6 for n in range(1,7)])\n",
    "G = lambda x: g(x)**2\n",
    "G = np.vectorize(G)\n",
    "N = 13\n",
    "n = np.arange(N)\n",
    "c = np.exp(2*np.pi*1j*n/N)\n",
    "pn = abs(np.fft.fft(G(c))/N)\n",
    "plt.bar(n,pn)\n",
    "plt.ylabel('Probability')\n",
    "plt.xlabel('Roll on two six-sided dice')\n",
    "plt.show()"
   ]
  },
  {
   "cell_type": "markdown",
   "id": "1fe28c50-f302-4e51-8b54-803d14af9add",
   "metadata": {},
   "source": [
    "## General probability generating function"
   ]
  },
  {
   "cell_type": "markdown",
   "id": "424babcc-f646-4ab4-8994-d9fe945108d2",
   "metadata": {},
   "source": [
    "For probability generating functions that cannot be represented as a finite degree polynomial (or for very large degree), using the above discrete Fourier transform with some finite $N$ allows us to recover **approximately** the first $N$ terms of the distribution.\n",
    "But how good is this approximation?\n",
    "To find out, let us use $N = 10$ in the previous example."
   ]
  },
  {
   "cell_type": "code",
   "execution_count": 2,
   "id": "4252db26-4bd2-41cc-82ec-2308967db5f0",
   "metadata": {},
   "outputs": [
    {
     "data": {
      "image/png": "[encoded data removed]",
      "text/plain": [
       "<Figure size 432x288 with 1 Axes>"
      ]
     },
     "metadata": {
      "needs_background": "light"
     },
     "output_type": "display_data"
    }
   ],
   "source": [
    "N_ = 10\n",
    "n_ = np.arange(N_)\n",
    "c_ = np.exp(2*np.pi*1j*n_/N_)\n",
    "pn_ = abs(np.fft.fft(G(c_))/N_)\n",
    "plt.bar(n,pn)\n",
    "plt.bar(n_,pn_, alpha = 0.3, color='orange')\n",
    "plt.ylabel('Probability')\n",
    "plt.xlabel('Roll on two six-sided dice')\n",
    "plt.show()"
   ]
  },
  {
   "cell_type": "markdown",
   "id": "6e1ac8ae-9789-44ad-84dd-36a6363017d9",
   "metadata": {},
   "source": [
    "The original (exact) distribution is shown in dark green and blue.\n",
    "The new distribution correspond to the orange and dark green portion.\n",
    "What happened is that the probability mass for the terms $p_n$ with $n \\geq N$ (in blue) was moved at the beginning of the distribution (in orange).\n",
    "This phenomenon is known as *aliasing* and can affect significantly our results if $N$ is too small and the tail of $p_n$ does not decrease fast enough.\n",
    "One obvious strategy is to increase $N$, which is perfectly acceptable when the terms $G(e^{2\\pi i m /N})$ are not too costly to evaluate.\n",
    "Sometimes increasing $N$ is computationally expansive and we care only about the first few terms.\n",
    "In this case, we can use a value $0 < r < 1$ into our discrete Fourier transform to mitigate the effect of aliasing, as shown below."
   ]
  },
  {
   "cell_type": "code",
   "execution_count": 3,
   "id": "c26e19a5-f849-4818-8229-2ce57b2abb25",
   "metadata": {},
   "outputs": [
    {
     "data": {
      "image/png": "[encoded data removed]",
      "text/plain": [
       "<Figure size 432x288 with 1 Axes>"
      ]
     },
     "metadata": {
      "needs_background": "light"
     },
     "output_type": "display_data"
    }
   ],
   "source": [
    "r = 0.8\n",
    "N_ = 10\n",
    "n_ = np.arange(N_)\n",
    "c_ = np.exp(2*np.pi*1j*n_/N_)\n",
    "pn_ = abs(np.fft.fft(G(r*c_))/(N_*r**n_))\n",
    "plt.bar(n,pn)\n",
    "plt.bar(n_,pn_, alpha = 0.3, color='orange')\n",
    "plt.ylabel('Probability')\n",
    "plt.xlabel('Roll on two six-sided dice')\n",
    "plt.show()"
   ]
  },
  {
   "cell_type": "markdown",
   "id": "2fe1f1c8-239c-44f6-89b4-5364557e568a",
   "metadata": {},
   "source": [
    "Here is another example usign the PGF for a Poisson distribution, with varying values of $r$."
   ]
  },
  {
   "cell_type": "code",
   "execution_count": 4,
   "id": "67a3da5e-311c-423c-b064-5a3fc917f5c1",
   "metadata": {},
   "outputs": [
    {
     "data": {
      "image/png": "[encoded data removed]",
      "text/plain": [
       "<Figure size 936x216 with 3 Axes>"
      ]
     },
     "metadata": {
      "needs_background": "light"
     },
     "output_type": "display_data"
    }
   ],
   "source": [
    "from scipy.special import loggamma\n",
    "fig, axes = plt.subplots(1,3, figsize=(13,3), sharey=True)\n",
    "plt.subplots_adjust(wspace = 0.1)\n",
    "\n",
    "mean = 6\n",
    "G = lambda x: np.exp(mean*(x-1))\n",
    "N = 10\n",
    "n = np.arange(N)\n",
    "c = np.exp(2*np.pi*1j*n/N)\n",
    "pn_true = mean**n*np.exp(-mean - loggamma(n+1))\n",
    "for j,r in enumerate([1,0.9,0.5]):\n",
    "    pn = abs(np.fft.fft(G(r*c))/(N*r**n))\n",
    "    axes[j].bar(n,pn_true)\n",
    "    axes[j].bar(n,pn, color='orange', alpha=0.3)\n",
    "    if j == 0:\n",
    "        axes[j].set_ylabel('Probability')\n",
    "    axes[j].set_xlabel('n')\n",
    "    axes[j].text(0.1,0.9,f'r = {r}', transform=axes[j].transAxes)\n",
    "plt.show()"
   ]
  },
  {
   "cell_type": "markdown",
   "id": "238db4b9-2c68-4bba-880b-749224cd1b75",
   "metadata": {},
   "source": [
    "To understand what is happening, we can write our discrete Fourier transform approximation $\\hat{p}_n$ as"
   ]
  },
  {
   "cell_type": "markdown",
   "id": "1122405c-369a-474c-be90-fea129c33290",
   "metadata": {},
   "source": [
    "$$\n",
    "\\hat{p}_n = p_n + \\sum_{a = 1}^\\infty p_{n + aN} r^{aN} \\;.\n",
    "$$"
   ]
  },
  {
   "cell_type": "markdown",
   "id": "5ced1f7d-2d08-4e41-a50c-dadeb0190427",
   "metadata": {},
   "source": [
    "Again, this is obtained by expanding $G(r e^{i \\omega})$ inside the integrale.\n",
    "The aliasing effect corresponds to the second term on the right.\n",
    "Since the sum starts with $a = 1$, the error term is $O(r^N)$, so picking a value $r < 1$ reduces considerably the error."
   ]
  },
  {
   "cell_type": "markdown",
   "id": "90ab6b38-6ddb-4ad5-9524-4ebe88196374",
   "metadata": {},
   "source": [
    ":::{tip}\n",
    "While it is tempting to choose a very small $r$, it may cause numerical issues due to the floating point representation of real numbers since we needs to divide by $r^n$ to obtain $p_n$.\n",
    "To fix a reasonable $r$, we can rewrite $r \\iff e^{-1/\\kappa}$, where $\\kappa$ is the exponential cut-off value.\n",
    "Fixing $\\kappa$ to a few orders of magnitude smaller than $N$ is usually sufficient.\n",
    "For instance, with $\\kappa = 1$, $r \\approx 0.368$, which would be sufficient above with the Poisson PGF, and this is only one order order of magnitude smaller than $N$.\n",
    ":::"
   ]
  }
 ],
 "metadata": {
  "kernelspec": {
   "display_name": "Python 3 (ipykernel)",
   "language": "python",
   "name": "python3"
  },
  "language_info": {
   "codemirror_mode": {
    "name": "ipython",
    "version": 3
   },
   "file_extension": ".py",
   "mimetype": "text/x-python",
   "name": "python",
   "nbconvert_exporter": "python",
   "pygments_lexer": "ipython3",
   "version": "3.10.5"
  }
 },
 "nbformat": 4,
 "nbformat_minor": 5
}
