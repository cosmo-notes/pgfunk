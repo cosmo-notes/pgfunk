{
 "cells": [
  {
   "cell_type": "markdown",
   "id": "691ff18d-6aa3-4e84-bf36-831fa03e10da",
   "metadata": {},
   "source": [
    "# Contagion on networks"
   ]
  },
  {
   "cell_type": "code",
   "execution_count": null,
   "id": "d9c98fa4-05c6-4b72-b3b7-3b8153c56780",
   "metadata": {},
   "outputs": [],
   "source": []
  }
 ],
 "metadata": {
  "kernelspec": {
   "display_name": "Python 3 (ipykernel)",
   "language": "python",
   "name": "python3"
  },
  "language_info": {
   "codemirror_mode": {
    "name": "ipython",
    "version": 3
   },
   "file_extension": ".py",
   "mimetype": "text/x-python",
   "name": "python",
   "nbconvert_exporter": "python",
   "pygments_lexer": "ipython3",
   "version": "3.10.5"
  }
 },
 "nbformat": 4,
 "nbformat_minor": 5
}
