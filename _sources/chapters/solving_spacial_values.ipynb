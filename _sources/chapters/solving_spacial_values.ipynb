{
 "cells": [
  {
   "cell_type": "markdown",
   "id": "11809ad2-7971-4816-b92b-4905133da2a5",
   "metadata": {
    "tags": []
   },
   "source": [
    "# Solving special values"
   ]
  },
  {
   "cell_type": "markdown",
   "id": "dc445744-1bfd-450c-b194-dcebadc4d49f",
   "metadata": {},
   "source": [
    "While the variable $x$ of a PGF $G(x)$ is often meant to simply be interpreted as a counting variable, it can also sometimes be interpreted as a probability."
   ]
  },
  {
   "cell_type": "markdown",
   "id": "64ffdc64",
   "metadata": {},
   "source": [
    "## Probability of extinction"
   ]
  },
  {
   "cell_type": "markdown",
   "id": "c2dfcabe",
   "metadata": {},
   "source": [
    "Consider a simple cell division process: A cell successfully divides in two with probability $p$, or dies trying with probability $1-p$. Using the definition of PGFs, we can define $G(x)$ to be the PGF of the count of live cells at the end of the lifetime of a given cell:"
   ]
  },
  {
   "cell_type": "markdown",
   "id": "801be5ae",
   "metadata": {},
   "source": [
    "$$\n",
    "G(x) = (1-p) + px^2 \\; .\n",
    "$$"
   ]
  },
  {
   "cell_type": "markdown",
   "id": "3b8ec615",
   "metadata": {},
   "source": [
    "If $p=1$, then obviously the cell population will grow exponentially to infinity. If $p=0$, the population dies immediately. What happens in between?\n",
    "\n",
    "We define $u$ to be the probability that the descendence of a cell does not grow to an infinite population. For a given cell to not lead to an infinite population, none of their descendents can lead to an infinite population (this is called a *self-consistent definition*, more on that later). \n",
    "\n",
    "We can therefore take two perspective. Looking at a given live cell which does not lead to an infinite population must be equivalent to looking at its potential offsprings and requiring that none of them lead to an infinite population. Since these two definitions are equal, we write:"
   ]
  },
  {
   "cell_type": "markdown",
   "id": "d94e9e88",
   "metadata": {},
   "source": [
    "$$\n",
    "u = (1-p) +pu^2 = G(u) \\; .\n",
    "$$"
   ]
  },
  {
   "cell_type": "markdown",
   "id": "9635935b-0933-4d55-b847-3656c89cae9f",
   "metadata": {},
   "source": [
    "Solving for the smallest real positive root of the polynomial $G(x) - x$ is therefore equivalent to solving for the probability that a population does not live forever. We say the smallest real positive root because the polynomial can have multiple roots and because 1 is always a root (since $G(x)$ is a PGF such that $G(1) = 1$)."
   ]
  },
  {
   "cell_type": "markdown",
   "id": "8c362231-f9d6-4bfb-9e5d-a6dcd4b68223",
   "metadata": {},
   "source": [
    "Solving for roots of a PGF is actually super easy, barely an inconvenience. We are trying to find where some PGF $G(x)$ crosses $x$ (or the diagonal. There are really only two possibilities for how this situation can look:"
   ]
  },
  {
   "cell_type": "markdown",
   "id": "a271fcac-ba2f-438d-9468-b0892fa8ad3c",
   "metadata": {},
   "source": [
    "![PGF-roots](./assets/png/roots.png)"
   ]
  },
  {
   "cell_type": "markdown",
   "id": "834a67d3",
   "metadata": {},
   "source": [
    "We know for certain that $G(x)$ starts at $G(0)=p_0\\geq 0$ and ends at $G(1) = 1$. We also know that all of its derivatives are positive (since its coefficients $p_k \\geq 0$ for all $k$. Therefore, it either touches the diagonal once before $G(1) = 1$, or never. The key distinction between the two scenarios is the derivative $dG(x)/dx=G'(x)$ at $x=1$. If $G'(1)>1$, then $G(x)$ *has* to touch the diagonal at some value $0 \\leq x < 1$. That value will be $x=0$ if $p_0 = 0$, or greater than 0 otherwise.\n",
    "\n",
    "In practice, we want to solve for the exact value of $u$; i.e., the crossing of $G(x)$ and $x$ where $G(x)-x=0$. Luckily, because PGFs are so constrained by the fact that all their coefficients are greater or equal to zero, we can simply iterate the self-consistent definition. We can start at some random value $x_0<1$ and go to $x_{n+1} = G(x_n)$ until we converge to withing some satisfactory precision of $x_{\\infty}=u$. One can inspect the shape of the graph below to understand why that works, and the same logic will hold if we start at $x_0<u$:"
   ]
  },
  {
   "cell_type": "markdown",
   "id": "88688cec",
   "metadata": {},
   "source": [
    "![PGF-iterations](./assets/png/iteration.png)"
   ]
  },
  {
   "cell_type": "code",
   "execution_count": 3,
   "id": "5f100490",
   "metadata": {},
   "outputs": [
    {
     "data": {
      "image/png": "[encoded data removed]",
      "text/plain": [
       "<Figure size 432x288 with 1 Axes>"
      ]
     },
     "metadata": {},
     "output_type": "display_data"
    }
   ],
   "source": [
    "import numpy as np\n",
    "import matplotlib.pyplot as plt\n",
    "plt.style.use(['ggplot'])\n",
    "\n",
    "G = lambda p,x: (1-p)+p*x**2\n",
    "plist = np.linspace(0.0,1.0,1000)\n",
    "usol = []\n",
    "Pext = []\n",
    "for p in reversed(plist):\n",
    "    u1 = usol[-1].copy() if usol else 0.5\n",
    "    u2 = G(p,u1)\n",
    "    while  abs(u2-u1) > 10**(-5):\n",
    "        u1 = u2.copy()\n",
    "        u2 = G(p,u1)\n",
    "    usol.append(u2)\n",
    "    Pext.append(u2)\n",
    "Pext = list(reversed(Pext))\n",
    "plt.plot(plist,Pext)\n",
    "plt.xlabel(r\"$p$\")\n",
    "plt.ylabel(r\"Probability of extinction\")\n",
    "plt.show()"
   ]
  },
  {
   "cell_type": "markdown",
   "id": "5db18009-f64b-4cb3-a404-9a82295799f0",
   "metadata": {},
   "source": [
    "## Faster convergence"
   ]
  },
  {
   "cell_type": "markdown",
   "id": "1772047a-df16-4ad4-9207-5bf57a398dcb",
   "metadata": {},
   "source": [
    "In the code above, we keep track of our current estimate for $u$ which we call $u_1$ and update it to $u_2 = G(u_1)$ until $\\vert u2-u1\\vert > 10^{-5}$. We do use one easy trick to speed up the convergence though: Since we are going through values of the parameter $p$ consecutively, we start our iteration at a $u_1$ value that corresponds to the previous converged value (or 0.5 if this is the first value we test). Since we expect that the exact value of $u$ must vary continuously with $p$, starting the iterative process for $p$ at the solution for $p'$ means that we are starting close to the new solution.\n",
    "\n",
    "We can achieve even faster convergence.\n",
    "\n",
    "To find the zero of a continuous function, one incredibly simple idea known as [Newton's method](https://en.wikipedia.org/wiki/Newton%27s_method) is to assume that the function is linear. Given some current estimate $x_n$, we track the slope until we reach zero and call this our new estimate $x_{n+1}$. We then repeat until convergence. Since the slope can be approximated as the change in value over the change in $x$, we can derive an easy relationship between $x_n$, $x_{n+1}$ and the slope."
   ]
  },
  {
   "cell_type": "markdown",
   "id": "5897336c",
   "metadata": {},
   "source": [
    "$$\n",
    "\\frac{d}{dx} \\left[G(x) - x\\right]\\big\\vert_{x=x_n} = G'(x_n)-1 = \\frac{G(x_n)-x_n-0}{x_n-x_{n+1}} \\rightarrow x_{n+1} = x_n - \\frac{G(x_n)-x_n}{G'(x_n) - 1}\n",
    "$$\n",
    "which can be understood visually as follows."
   ]
  },
  {
   "cell_type": "markdown",
   "id": "7de2aee7",
   "metadata": {},
   "source": [
    "![Newton-method](./assets/png/newton.png)"
   ]
  },
  {
   "cell_type": "markdown",
   "id": "266e1ddc",
   "metadata": {},
   "source": [
    "If we do not want to have to evaluate both $G(x)$ and its derivative $G'(x_n)$, we can also rely on a simple approximation of the slope. The approach is then known as [Steffensen's method](https://en.wikipedia.org/wiki/Steffensen%27s_method). The approximation goes as follows:"
   ]
  },
  {
   "cell_type": "markdown",
   "id": "78d0536f",
   "metadata": {},
   "source": [
    "$$\n",
    "f'(x) \\approx g(x) = \\frac{f(x+f(x))}{f(x)} - 1 \\; .\n",
    "$$\n",
    "Which in the case of the function we care about, $f(x) = G(x)-x$, becomes\n",
    "$$\n",
    "G'(x_n)-1 \\approx \\frac{G(G(x_n))-2G(x_n)+x_n}{G(x_n)-x_n}\n",
    "$$"
   ]
  },
  {
   "cell_type": "markdown",
   "id": "6fcd0093",
   "metadata": {},
   "source": [
    "This approach can be impletemented as follows and compared to the previous 'direct' approach. While it is *much* faster, the code is a little less neat: We have to evaluate the PGF a lot and test that the slope isn't too close to zero to avoid numerical issues. While in practice we might often use Steffensen's method, we use the direct approach in much of this sourcebook in the spirit of code readability."
   ]
  },
  {
   "cell_type": "code",
   "execution_count": 41,
   "id": "8520e150",
   "metadata": {},
   "outputs": [
    {
     "name": "stdout",
     "output_type": "stream",
     "text": [
      "Direct iteration took 139 iterations to find u = 0.6666666666666634\n"
     ]
    }
   ],
   "source": [
    "#Direct iteration\n",
    "G = lambda p,x: (1-p)+p*x**2\n",
    "p = 0.6\n",
    "u1 = 0.5\n",
    "u2 = G(p,u1)\n",
    "iter_direct = 1\n",
    "while  abs(u2-u1) > 10**(-15):\n",
    "    u1 = u2\n",
    "    u2 = G(p,u1)\n",
    "    iter_direct+=1\n",
    "\n",
    "print('Direct iteration took '+str(iter_direct)+' iterations to find u = '+str(u2))"
   ]
  },
  {
   "cell_type": "code",
   "execution_count": 43,
   "id": "7bb0b261",
   "metadata": {},
   "outputs": [
    {
     "name": "stdout",
     "output_type": "stream",
     "text": [
      "Steffensen took 7 iterations to find u = 0.6666666666666679\n"
     ]
    }
   ],
   "source": [
    "#Steffensen's method\n",
    "G = lambda p,x: (1-p)+p*x**2\n",
    "p = 0.6\n",
    "u1 = 0.5\n",
    "u2 = G(p,u1)\n",
    "iter_steffensen = 1\n",
    "while  abs(u2-u1) > 10**(-15):\n",
    "    u1 = u2\n",
    "    denominator = (G(p,G(p,u1))-2*G(p,u1)+u1)/(G(p,u1)-u1)\n",
    "    if abs(denominator)<10**(-15): #otherwise we can have numerical issue when very close\n",
    "        u2=u1\n",
    "    else:\n",
    "        u2 = u1-(G(p,u1)-u1)/denominator\n",
    "    iter_steffensen+=1\n",
    "    \n",
    "print('Steffensen took '+str(iter_steffensen)+' iterations to find u = '+str(u2))"
   ]
  },
  {
   "cell_type": "markdown",
   "id": "2a32b1a1-7a51-42be-85f6-6760b643a3e5",
   "metadata": {},
   "source": [
    ":::{seealso}\n",
    "There are other methods for convergence, such as [Aitken's delta-squared process or Aitken extrapolation](https://en.wikipedia.org/wiki/Aitken%27s_delta-squared_process). But the authors have found the method described here to be preferred in most situations.\n",
    ":::"
   ]
  },
  {
   "cell_type": "markdown",
   "id": "9141cb3c",
   "metadata": {},
   "source": [
    "## Distribution conditioned on extinction"
   ]
  },
  {
   "cell_type": "markdown",
   "id": "cb93beb1",
   "metadata": {},
   "source": [
    "Even when random events are independent realizations of a stochastic process with known parameters, they can become correlated or their observed parameters might change once we condition on their outcome. Here is a simple example, say that we flip an unbiased coin such that (a priori) we get 'tails' 50\\% of the time, and keep flipping until we get 'heads' then stop. Conditioned on a total sequence being of length two, the first flip is now 100\\% tails and the second flip is now 100\\% heads, not the 50/50 split expected before the flip. "
   ]
  },
  {
   "cell_type": "markdown",
   "id": "29ea0515",
   "metadata": {},
   "source": [
    "What does this mean for our cell division example? Given a probability of successful cell division $p$, we now know how to calculate the probability of extinction $u$. If we are interested in specifically studying the dynamics of cell lineage that go extinct, what is the effective probability of successful cell division $p'$ that govern their dynamics?\n",
    "\n",
    "Looking at the first cell in the now extinct lineage, we know that it can fail to divide, or that if it does divide, none of their descendents can lead to an infinite population. The cell therefore divides according to the following generating function"
   ]
  },
  {
   "cell_type": "markdown",
   "id": "2348e6e5",
   "metadata": {},
   "source": [
    "$$\n",
    "G'(x) \\propto (1-p)+pu^2 x^2\n",
    "$$"
   ]
  },
  {
   "cell_type": "markdown",
   "id": "11c68fe0",
   "metadata": {},
   "source": [
    "and normalizing to get a proper PGF"
   ]
  },
  {
   "cell_type": "markdown",
   "id": "54b341ba",
   "metadata": {},
   "source": [
    "$$\n",
    "G'(x) = \\frac{(1-p)+pu^2 x^2}{G(u)} = \\frac{1}{u}G(ux) \\; .\n",
    "$$"
   ]
  },
  {
   "cell_type": "markdown",
   "id": "dbf285a9",
   "metadata": {},
   "source": [
    "Say the true dynamics of the cells actually lead to a probability of succesfull division of $p=0.6$. We saw that a population of cells therefore has a probability of $u=0.666$ of going extinct. This means that when looking at the dynamics of lineages that do go extinct, the effective probability of succesful division is only $p' = pu^2 = 0.266$. \n",
    "\n",
    "What does this mean? Even though the first cell is more likely to divide then die, when looking at finite populations of cells that went extinct, the vast of these will have gone extinct with their first cell not dividing. Stochastic processes are not always intuitive!"
   ]
  }
 ],
 "metadata": {
  "kernelspec": {
   "display_name": "Python 3 (ipykernel)",
   "language": "python",
   "name": "python3"
  },
  "language_info": {
   "codemirror_mode": {
    "name": "ipython",
    "version": 3
   },
   "file_extension": ".py",
   "mimetype": "text/x-python",
   "name": "python",
   "nbconvert_exporter": "python",
   "pygments_lexer": "ipython3",
   "version": "3.10.12"
  }
 },
 "nbformat": 4,
 "nbformat_minor": 5
}
