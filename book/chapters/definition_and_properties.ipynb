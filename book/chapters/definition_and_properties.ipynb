{
 "cells": [
  {
   "cell_type": "markdown",
   "id": "9bf28329-24f4-4d24-a5b8-cb997a652160",
   "metadata": {},
   "source": [
    "# Definition and important properties"
   ]
  },
  {
   "cell_type": "markdown",
   "id": "2f883e24-cfe9-4ecf-bbcc-67d4d36cd68d",
   "metadata": {},
   "source": []
  }
 ],
 "metadata": {
  "kernelspec": {
   "display_name": "Python 3 (ipykernel)",
   "language": "python",
   "name": "python3"
  },
  "language_info": {
   "codemirror_mode": {
    "name": "ipython",
    "version": 3
   },
   "file_extension": ".py",
   "mimetype": "text/x-python",
   "name": "python",
   "nbconvert_exporter": "python",
   "pygments_lexer": "ipython3",
   "version": "3.10.5"
  }
 },
 "nbformat": 4,
 "nbformat_minor": 5
}
