{
 "cells": [
  {
   "cell_type": "markdown",
   "id": "9bf28329-24f4-4d24-a5b8-cb997a652160",
   "metadata": {},
   "source": [
    "# Basics concepts"
   ]
  },
  {
   "cell_type": "markdown",
   "id": "2f883e24-cfe9-4ecf-bbcc-67d4d36cd68d",
   "metadata": {},
   "source": [
    "In this book, we are interested in discrete and non-negative random variables taking values $n \\in \\lbrace 0, 1, \\dots \\rbrace$.\n",
    "Such random variables are omnipresent in science whenever we are *counting* things that are the result of (or can be modeled as) a stochastic process.\n",
    "Population dynamics, genetic evolution, and epidemiology are only a few of the many application for non-negative discrete random variables (see [birth–death process](https://en.wikipedia.org/wiki/Birth%E2%80%93death_process) and [branching process](https://en.wikipedia.org/wiki/Branching_process) for instance)."
   ]
  },
  {
   "cell_type": "markdown",
   "id": "4b56a75f-17a6-4e40-8b98-fed152f39048",
   "metadata": {},
   "source": [
    "A random variable is completly described by its probability distribution $(p_n)_{n = 0}^\\infty$, but sometimes it is more convenient to work with another representation---here, we will use its **probability generating function** (PGF)"
   ]
  },
  {
   "cell_type": "markdown",
   "id": "888c867d-3bdd-4a5a-80a5-844f31ee675d",
   "metadata": {},
   "source": [
    "$$\n",
    "G(x) = \\sum_{n = 0}^\\infty p_n x^n \\;.\n",
    "$$"
   ]
  },
  {
   "cell_type": "markdown",
   "id": "48a29e4c-d740-4813-ae69-ceb56ddcbf2a",
   "metadata": {},
   "source": [
    "Probability generating functions encode the distribution into a function, attaching each number $p_n$ to a monomial $x^n$, or in the words of Herbert S. Wilf, \"A generating function is a clothesline on which we hang up a sequence of numbers for display.\" {cite}`wilf2005generatingfunctionology`. "
   ]
  },
  {
   "cell_type": "markdown",
   "id": "4a1902c0-2ef1-45bf-9b4b-d5d44b76c314",
   "metadata": {},
   "source": [
    "![clothesline](../assets/png/clothesline.png)"
   ]
  },
  {
   "cell_type": "markdown",
   "id": "cf20c963-8b84-4a21-8122-8294bd08d2a8",
   "metadata": {},
   "source": [
    "As we show in the next chapter, it is straightforward to recover the probability distribution from its PGF.\n",
    "But why work with the latter?\n",
    "Mainly because for certain applications, it is possible to find an analytical expression for the PGF, or define an algorithm solving it, while it is much more complicated (or impossible) to have an explicit formula (or an algorithm) for the probability distribution directly."
   ]
  },
  {
   "cell_type": "markdown",
   "id": "7fc12944-bfce-4507-a227-049d79e7de49",
   "metadata": {},
   "source": [
    "## A simple example: Rolling dices"
   ]
  },
  {
   "cell_type": "markdown",
   "id": "dc74a209-43bc-4c77-916d-6010b67ea5fb",
   "metadata": {},
   "source": [
    "Throughout this first part of the book, we will often use this simple example---rolling a certain number of six-sided dices, then try to estimate the probability of some event.\n",
    "With a single dice for instance, the possible outcomes are quite simple: $n \\in \\lbrace 1, 2, 3, 4, 5, 6 \\rbrace$, all with equal probability $p_n = 1/6$.\n",
    "The corresponding PGF is simply"
   ]
  },
  {
   "cell_type": "markdown",
   "id": "ecc2395d-c495-40ad-afdf-21a30c8d9dc8",
   "metadata": {},
   "source": [
    "$$\n",
    "g(x) = \\frac{1}{6}(x + x^2 + x^3 + x^4 + x^5 + x^6) = \\sum_{n=1}^6 \\frac{1}{6} x^n \\;.\n",
    "$$"
   ]
  },
  {
   "cell_type": "markdown",
   "id": "6c41bb47-feec-475e-9ea4-5f3c2ea4ed7c",
   "metadata": {},
   "source": [
    "But now what happens when we use more than one dice?\n",
    "What is now the probability to observe a certain result, such as $n = 8$? \n",
    "To answer these questions, let us highlight some important properties of PGFs."
   ]
  },
  {
   "cell_type": "markdown",
   "id": "f9dba90c-e1b1-4103-9cbf-dda0ecd1b2df",
   "metadata": {},
   "source": [
    "## Sum of independent random variables"
   ]
  },
  {
   "cell_type": "markdown",
   "id": "88268b1d-3972-4995-966b-a004a6eb89b7",
   "metadata": {},
   "source": [
    "Let's assume we have two *independent* random variables, $n_1$ and $n_2$, with PGF $G_1(x)$ and $G_2(x)$. Then, the probability generating function for their sum $n_3 = n_1 + n_2$ is"
   ]
  },
  {
   "cell_type": "markdown",
   "id": "ff1dc71a-231b-46d3-b607-60c4002ca2a6",
   "metadata": {},
   "source": [
    "$$\n",
    "\\begin{align}\n",
    "G_3(x) &= \\sum_{n_3 = 0}^\\infty p_{n_3} x^{n_3} \\;,\\\\\n",
    "       &= \\sum_{n_1 = 0}^\\infty \\sum_{n_2 = 0}^\\infty p_{n_1} p_{n_2} x^{n_1 + n_2} \\;,\\\\\n",
    "       &= \\sum_{n_1 = 0}^\\infty  p_{n_1} x^{n_1} \\sum_{n_2 = 0}^\\infty p_{n_2} x^{n_2} \\;,\\\\\n",
    "       &= G_1(x) G_2(x) \\;,\n",
    "\\end{align}\n",
    "$$"
   ]
  },
  {
   "cell_type": "markdown",
   "id": "905ff253-1893-4397-a5b6-bf81da46e9cb",
   "metadata": {},
   "source": [
    "where on the second line, we use the fact that the joint probability distribution for two independent random variables is just the product of their respective probability distribution.\n",
    "Hence we see that summing independent random variables results in multiplying their PGF (one can check this is true for more than two random variables)."
   ]
  },
  {
   "cell_type": "code",
   "execution_count": null,
   "id": "41325db0-08d4-44cd-9c8b-0209aa5bde5f",
   "metadata": {},
   "outputs": [],
   "source": []
  },
  {
   "cell_type": "markdown",
   "id": "12f4e2c9-e617-45d3-bc78-8169c467dd2c",
   "metadata": {},
   "source": [
    "```{bibliography}\n",
    "```"
   ]
  }
 ],
 "metadata": {
  "kernelspec": {
   "display_name": "Python 3 (ipykernel)",
   "language": "python",
   "name": "python3"
  },
  "language_info": {
   "codemirror_mode": {
    "name": "ipython",
    "version": 3
   },
   "file_extension": ".py",
   "mimetype": "text/x-python",
   "name": "python",
   "nbconvert_exporter": "python",
   "pygments_lexer": "ipython3",
   "version": "3.10.5"
  }
 },
 "nbformat": 4,
 "nbformat_minor": 5
}
