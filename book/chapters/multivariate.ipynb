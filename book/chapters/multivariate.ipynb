{
 "cells": [
  {
   "cell_type": "markdown",
   "id": "a8016e53-f847-4dd1-bbef-7268cf506de0",
   "metadata": {},
   "source": [
    "# Multivariate probability generating functions"
   ]
  },
  {
   "cell_type": "markdown",
   "id": "d51e8166-b293-4452-9763-e5ca2627dde4",
   "metadata": {},
   "source": [
    "While one can go a long way with univariate generating functions, it is limited to characterize a single random variable---or the sum of multiple *independent* random variables---, but to characterize $m$ random variables $(n_1, n_2, \\dots, n_m)$ that are not necessarily independent, we need to consider multivariate probability generating functions of the form"
   ]
  },
  {
   "cell_type": "markdown",
   "id": "5c7ef6f6-30cd-4804-8d70-b99c59a22490",
   "metadata": {},
   "source": [
    "$$\n",
    "\\begin{align}\n",
    "G(x_1,x_2,\\dots,x_m) = \\sum_{n_1 = 0}^\\infty \\cdots \\sum_{n_m = 0}^\\infty p_{n_1,n_2,\\dots,n_m} x_1^{n_1}x_2^{n_2} \\cdots x_m^{n_m} \\;,\n",
    "\\end{align}\n",
    "$$"
   ]
  },
  {
   "cell_type": "markdown",
   "id": "27b0d596-2e86-46e4-b873-e7acfa13dfbe",
   "metadata": {},
   "source": [
    "where $p_{n_1,n_2,\\dots,n_m}$ is the joint probability distribution."
   ]
  },
  {
   "cell_type": "markdown",
   "id": "bdf69d74-ff4a-413a-a316-b13f55a41f8b",
   "metadata": {},
   "source": [
    "Fortunately, all the properties we discussed previously and the numerical inversion can still be applied."
   ]
  },
  {
   "cell_type": "markdown",
   "id": "8ba6512c-dc26-4454-b051-776482f97df0",
   "metadata": {},
   "source": [
    "## Throwing dices of different colors"
   ]
  },
  {
   "cell_type": "markdown",
   "id": "93ba29bf-e638-4eb3-8839-89fd4f773717",
   "metadata": {},
   "source": [
    "Let's assume we throw three fair dices. Two of the three dices are blue and one is red. We calculate two sums ($n_1$ and $n_2$) by adding the number on top of the blue dice with the two number on top of the red dices independently. What is the PGF for $p_{n_1,n_2}$? It is"
   ]
  },
  {
   "cell_type": "markdown",
   "id": "ac8e9727-4815-4dfb-8971-c0e6fe89cac1",
   "metadata": {},
   "source": [
    "$$\n",
    "\\begin{align}\n",
    "G(x_1,x_2) = g(x_1) g(x_2)g(x_1x_2) \\;.\n",
    "\\end{align}\n",
    "$$"
   ]
  },
  {
   "cell_type": "markdown",
   "id": "1e73ca19-03c9-4b02-ac57-088bea9c323b",
   "metadata": {},
   "source": [
    "Indeed, if $k_1$ and $k_2$ are the number on top of the red dices, and $k_3$ is the result on top of the blue dice,"
   ]
  },
  {
   "cell_type": "markdown",
   "id": "520cd6d6-42b1-4450-875f-50d00c142554",
   "metadata": {},
   "source": [
    "$$\n",
    "\\begin{align}\n",
    "G(x_1,x_2) &= \\sum_{n_1=0}^{12} \\sum_{n_2=0}^{12} p_{n_1,n_2} x_1^{n_1} x_2^{n_2} \\;, \\\\\n",
    "           &= \\sum_{k_1=0}^{6} \\sum_{k_2=0}^{6} \\sum_{k_3=0}^{6} p_{k_1} p_{k_2} p_{k_3} x_1^{k_1 + k_3} x_2^{k_2 + k_3} \\;, \\\\\n",
    "           &= \\sum_{k_1=0}^{6} p_{k_1} x^{k_1} \\sum_{k_2=0}^{6}  p_{k_2} x^{k_2} \\sum_{k_3=0}^{6} p_{k_3} (x_1x_2)^{k_3} \\;, \\\\\n",
    "           &= g(x_1) g(x_2)g(x_1x_2) \\;,\n",
    "\\end{align}\n",
    "$$"
   ]
  },
  {
   "cell_type": "markdown",
   "id": "f5f85c27-3938-4a95-9805-80c1edd83a40",
   "metadata": {},
   "source": [
    "So, despite the fact that $n_1$ and $n_2$ are not independent, we can still use the independence of the underlying dice throw ($k_1$,$k_2$, and $k_3$) to construct the joint PGF by the multiplication of the PGFs representing the independent random variables."
   ]
  },
  {
   "cell_type": "markdown",
   "id": "f576a309-08be-4e96-a090-b78aec38b7fa",
   "metadata": {},
   "source": [
    "## Numerical inversion of multivariate PGFs"
   ]
  },
  {
   "cell_type": "code",
   "execution_count": null,
   "id": "7f6540ca-7cb0-48a4-a59b-5092b4abc2f6",
   "metadata": {},
   "outputs": [],
   "source": []
  }
 ],
 "metadata": {
  "kernelspec": {
   "display_name": "Python 3 (ipykernel)",
   "language": "python",
   "name": "python3"
  },
  "language_info": {
   "codemirror_mode": {
    "name": "ipython",
    "version": 3
   },
   "file_extension": ".py",
   "mimetype": "text/x-python",
   "name": "python",
   "nbconvert_exporter": "python",
   "pygments_lexer": "ipython3",
   "version": "3.10.5"
  }
 },
 "nbformat": 4,
 "nbformat_minor": 5
}
