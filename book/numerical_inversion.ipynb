{
 "cells": [
  {
   "cell_type": "markdown",
   "id": "11809ad2-7971-4816-b92b-4905133da2a5",
   "metadata": {},
   "source": [
    "# Numerical inversion of probability generating functions"
   ]
  },
  {
   "cell_type": "markdown",
   "id": "dc445744-1bfd-450c-b194-dcebadc4d49f",
   "metadata": {},
   "source": [
    "In most cases of interest, the PGF $G(x)$ is known *indirectly*, i.e., we know how to compute its value for any $x$, but we do not know the underlying coefficients. \n",
    "For instance, the PGF for the result of a roll of two six-sided dices is $G(x) = g(x)^2$, where "
   ]
  },
  {
   "cell_type": "markdown",
   "id": "3eb9e676-de0b-4dbc-b228-643d82be2181",
   "metadata": {},
   "source": [
    "$$\n",
    "g(x) = \\sum_{n = 1}^6 \\frac{1}{6} x^n\n",
    "$$"
   ]
  },
  {
   "cell_type": "markdown",
   "id": "9635935b-0933-4d55-b847-3656c89cae9f",
   "metadata": {},
   "source": [
    "is the PGF for the result of a roll of a single dice.\n",
    "While in this example it is straightforward to evaluate the coefficients, in many applications, $G(x)$ is constructed by multiplying and composing multiple functions together.\n",
    "In this chapter, we will look at a systematic approach to extract the distribution $(p_n)_{n = 0}^\\infty$ from an arbitrary PGF $G(x)$."
   ]
  },
  {
   "cell_type": "markdown",
   "id": "c41df998-cafa-46d9-9d76-8cf8a5f0498e",
   "metadata": {},
   "source": [
    "## Polynomial generating functions"
   ]
  },
  {
   "cell_type": "markdown",
   "id": "9a1e59f2-7685-453f-a558-6b1a453ed745",
   "metadata": {},
   "source": [
    "The [characteristic function](https://en.wikipedia.org/wiki/Characteristic_function_(probability_theory)) of a random variable $Y$ is defined as"
   ]
  },
  {
   "cell_type": "markdown",
   "id": "cd153913-55d9-4164-be05-df2294f0d8c4",
   "metadata": {},
   "source": [
    "$$\n",
    "\\Phi(\\omega) = \\left \\langle e^{i \\omega Y} \\right \\rangle\n",
    "$$"
   ]
  },
  {
   "cell_type": "markdown",
   "id": "df779d14-dbd0-45cd-a62d-2111d65e0f24",
   "metadata": {},
   "source": [
    "For a discrete random variable $n$ of PGF $G(x)$, we directly have $\\Phi(\\omega) = G(e^{i\\omega})$.\n",
    "There exists a one-to-one correspondence between the characteristic function and the cumulative distribution of the random variable.\n",
    "Therefore, it is possible to recover the probability distribution from the characteristic function. \n",
    "For a discrete probability distribution, we need to evaluate the following Fourier integral"
   ]
  },
  {
   "cell_type": "markdown",
   "id": "c80281fe-d5b5-4048-9335-68778e2d994f",
   "metadata": {},
   "source": [
    "$$\n",
    "p_n = \\int_0^{2\\pi} G(e^{i\\omega}) e^{-i\\omega n} \\; \\mathrm{d} \\omega \\;.\n",
    "$$"
   ]
  },
  {
   "cell_type": "markdown",
   "id": "e33e1d7d-f878-4c2b-9a78-0a46045e6529",
   "metadata": {},
   "source": [
    "To verify this is true, expand $G(e^{i\\omega})$ in a power series inside the integral and to realize that only the $n$-th term contribute to the integral, all other terms are zero.\n",
    "Moreover, if $G(x)$ is a polynomial of degree $N-1$, meaning $p_n = 0$ for all $n \\geq N$, then the probability distribution is recovered exactly from a discrete Fourier transform"
   ]
  },
  {
   "cell_type": "markdown",
   "id": "d4a2e020-0cf2-4e49-95fc-1d0133263549",
   "metadata": {},
   "source": [
    "$$\n",
    "p_n = \\frac{1}{N} \\sum_{m = 0}^{N-1} G(e^{2 \\pi i m /N}) e^{2 \\pi i n m /N} \\;.\n",
    "$$"
   ]
  },
  {
   "cell_type": "markdown",
   "id": "bc5458a8-a0b8-4381-a2cb-6b94faf0f034",
   "metadata": {},
   "source": [
    "Again, one can verify this is true by expanding $G(e^{2\\pi i m /N})$ into a power series and noting that only the $n$-th term is nonzero.\n",
    "Let us apply this technique to recover the distribution for the roll of two six-sided dices. "
   ]
  },
  {
   "cell_type": "markdown",
   "id": "2a32b1a1-7a51-42be-85f6-6760b643a3e5",
   "metadata": {},
   "source": [
    ":::{note}\n",
    "Since $g(x)$ is a polynomial of degree $6$, $G(x)$ is of degree $12$ and $N = 13$. \n",
    ":::"
   ]
  },
  {
   "cell_type": "code",
   "execution_count": 25,
   "id": "d4a90500-0fff-4641-b751-116fba5791cd",
   "metadata": {},
   "outputs": [
    {
     "data": {
      "image/png": "[encoded data removed]",
      "text/plain": [
       "<Figure size 432x288 with 1 Axes>"
      ]
     },
     "metadata": {
      "needs_background": "light"
     },
     "output_type": "display_data"
    }
   ],
   "source": [
    "import numpy as np\n",
    "import matplotlib.pyplot as plt\n",
    "\n",
    "g = lambda x: np.sum([x**n/6 for n in range(1,7)])\n",
    "G = lambda x: g(x)**2\n",
    "G = np.vectorize(G)\n",
    "N = 13\n",
    "\n",
    "m = np.arange(N)\n",
    "c = np.exp(2*np.pi*1j*m/N)\n",
    "pn = abs(np.fft.fft(G(c))/N)\n",
    "plt.bar(m,pn)\n",
    "plt.ylabel('Probability')\n",
    "plt.xlabel('Roll on two six-sided dices')\n",
    "plt.show()"
   ]
  },
  {
   "cell_type": "markdown",
   "id": "1fe28c50-f302-4e51-8b54-803d14af9add",
   "metadata": {},
   "source": [
    "## General probability generating function"
   ]
  },
  {
   "cell_type": "code",
   "execution_count": null,
   "id": "2a7603a1-d822-4046-bd2e-02535c305e19",
   "metadata": {},
   "outputs": [],
   "source": []
  }
 ],
 "metadata": {
  "kernelspec": {
   "display_name": "Python 3 (ipykernel)",
   "language": "python",
   "name": "python3"
  },
  "language_info": {
   "codemirror_mode": {
    "name": "ipython",
    "version": 3
   },
   "file_extension": ".py",
   "mimetype": "text/x-python",
   "name": "python",
   "nbconvert_exporter": "python",
   "pygments_lexer": "ipython3",
   "version": "3.10.5"
  }
 },
 "nbformat": 4,
 "nbformat_minor": 5
}
