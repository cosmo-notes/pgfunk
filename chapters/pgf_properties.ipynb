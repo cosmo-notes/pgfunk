{
 "cells": [
  {
   "cell_type": "markdown",
   "id": "9bf28329-24f4-4d24-a5b8-cb997a652160",
   "metadata": {},
   "source": [
    "# Probability generating functions"
   ]
  },
  {
   "cell_type": "markdown",
   "id": "2f883e24-cfe9-4ecf-bbcc-67d4d36cd68d",
   "metadata": {},
   "source": [
    "In this tutorial, we are interested in discrete and non-negative random variables taking values $n \\in \\lbrace 0, 1, \\dots \\rbrace$.\n",
    "Such random variables are omnipresent in science whenever we are *counting* things that are the result of (or can be modeled as) a stochastic process.\n",
    "Population dynamics, genetic evolution, and epidemiology are only a few of the many application for non-negative discrete random variables (see [birth–death process](https://en.wikipedia.org/wiki/Birth%E2%80%93death_process) and [branching process](https://en.wikipedia.org/wiki/Branching_process) for instance)."
   ]
  },
  {
   "cell_type": "markdown",
   "id": "4b56a75f-17a6-4e40-8b98-fed152f39048",
   "metadata": {},
   "source": [
    "A random variable is completly described by its probability distribution $(p_n)_{n = 0}^\\infty$, but sometimes it is more convenient to work with another representation---here, we will use its **probability generating function** (PGF)"
   ]
  },
  {
   "cell_type": "markdown",
   "id": "888c867d-3bdd-4a5a-80a5-844f31ee675d",
   "metadata": {},
   "source": [
    "$$\n",
    "G(x) = \\sum_{n = 0}^\\infty p_n x^n \\;.\n",
    "$$"
   ]
  },
  {
   "cell_type": "markdown",
   "id": "48a29e4c-d740-4813-ae69-ceb56ddcbf2a",
   "metadata": {},
   "source": [
    "Simple polynomials whose coefficients are all positive since they correspond to probabilities and whose value $G(1)=1$ since the probabilities are normalized. Probability generating functions encode the distribution into a function, attaching each number $p_n$ to a monomial $x^n$, or in the words of Herbert S. Wilf, \"A generating function is a clothesline on which we hang up a sequence of numbers for display.\" {cite}`wilf2005generatingfunctionology`. "
   ]
  },
  {
   "cell_type": "markdown",
   "id": "4a1902c0-2ef1-45bf-9b4b-d5d44b76c314",
   "metadata": {},
   "source": [
    "![clothesline](assets/png/clothesline.png)"
   ]
  },
  {
   "cell_type": "markdown",
   "id": "cf20c963-8b84-4a21-8122-8294bd08d2a8",
   "metadata": {},
   "source": [
    "For the more computationally minded readers, it might be easier to think of PGFs as mathematical data structure. In a code, you would likely hold the discrete distribution $p_n$ of outcomes $n$ in something like an array or a dictionary with keys $\\lbrace n\\rbrace$ and values $\\lbrace p_n\\rbrace$. Mathematically, we can do the same thing by using the coefficients of a polynomial! The powers of $x$ are simply counting variables corresponding to the indices of our list or the keys of our dictionary, and the coefficients can then be used to store the values. It's clever, but is it useful?\n",
    "\n",
    "As we show in the next chapter, it is straightforward to recover the probability distribution from its PGF. So it is a proper data structure.\n",
    "But why work with the latter?\n",
    "Mainly because for certain applications, it is possible to find an analytical expression for the PGF, or define an algorithm solving it, while it is much more complicated (or impossible) to have an explicit formula (or an algorithm) for the probability distribution directly."
   ]
  },
  {
   "cell_type": "markdown",
   "id": "7fc12944-bfce-4507-a227-049d79e7de49",
   "metadata": {},
   "source": [
    "## A simple example: Rolling dice"
   ]
  },
  {
   "cell_type": "markdown",
   "id": "dc74a209-43bc-4c77-916d-6010b67ea5fb",
   "metadata": {},
   "source": [
    "Throughout this first part of the book, we will often use this simple example---rolling a certain number of four- or six-sided dice, then try to estimate the probability of some event.\n",
    "With a single six-sided die for instance, the possible outcomes are quite simple: $n \\in \\lbrace 1, 2, 3, 4, 5, 6 \\rbrace$, all with equal probability $p_n = 1/6$.\n",
    "The corresponding PGF is simply"
   ]
  },
  {
   "cell_type": "markdown",
   "id": "ecc2395d-c495-40ad-afdf-21a30c8d9dc8",
   "metadata": {},
   "source": [
    "$$\n",
    "g_6(x) = \\frac{1}{6}(x + x^2 + x^3 + x^4 + x^5 + x^6) = \\sum_{n=1}^6 \\frac{1}{6} x^n \\;.\n",
    "$$"
   ]
  },
  {
   "cell_type": "markdown",
   "id": "19e8bb68",
   "metadata": {},
   "source": [
    "Even simpler, a single four-sided die has only four possible outcomes: $n \\in \\lbrace 1, 2, 3, 4 \\rbrace$, all with equal probability $p_n = 1/4$. The PGF is now"
   ]
  },
  {
   "cell_type": "markdown",
   "id": "6ed1b346",
   "metadata": {},
   "source": [
    "$$\n",
    "g_4(x) = \\frac{1}{4}(x + x^2 + x^3 + x^4) = \\sum_{n=1}^4 \\frac{1}{4} x^n \\;.\n",
    "$$"
   ]
  },
  {
   "cell_type": "markdown",
   "id": "6c41bb47-feec-475e-9ea4-5f3c2ea4ed7c",
   "metadata": {},
   "source": [
    "But now what happens when we use more than one die?\n",
    "To answer these questions, let us highlight some important properties of PGFs."
   ]
  },
  {
   "cell_type": "markdown",
   "id": "f9dba90c-e1b1-4103-9cbf-dda0ecd1b2df",
   "metadata": {},
   "source": [
    "## Sum of independent random variables"
   ]
  },
  {
   "cell_type": "markdown",
   "id": "0ece4245",
   "metadata": {},
   "source": [
    "Imagine a game of craps where you have to bet on the summed roll of a six- and a four-sided dice. The result will be anywhere from 2 to 10. But what are the probabilities associated with all values? Mathematically, we can expliclty calculate all possible combinations and their probabilities."
   ]
  },
  {
   "cell_type": "markdown",
   "id": "39cfc865",
   "metadata": {},
   "source": [
    "$$\n",
    "\\begin{align}\n",
    "&\\frac{1}{6}(x + x^2 + x^3 + x^4 + x^5 + x^6) \\times \\frac{1}{4}(x + x^2 + x^3 + x^4) \\\\\n",
    "=  \\;\\, &\\frac{1}{24}x^2 + \\frac{2}{24}x^3 + \\frac{3}{24}x^4 + \\frac{4}{24}x^5 + \\frac{4}{24}x^6 + \\frac{4}{24}x^7 + \\frac{3}{24}x^8 + \\frac{2}{24}x^9 + \\frac{1}{24}x^{10} \\\\\n",
    "=  \\;\\, &g_6(x)g_4(x)\n",
    "\\end{align}\n",
    "$$"
   ]
  },
  {
   "cell_type": "markdown",
   "id": "88268b1d-3972-4995-966b-a004a6eb89b7",
   "metadata": {},
   "source": [
    "So really, this approach is simply multiplying the PGFs! And this holds true in general. If we have two *independent* random variables, $n_1$ and $n_2$, with PGF $G_1(x)$ and $G_2(x)$. Then, the probability generating function for their sum $n = n_1 + n_2$ is"
   ]
  },
  {
   "cell_type": "markdown",
   "id": "ff1dc71a-231b-46d3-b607-60c4002ca2a6",
   "metadata": {},
   "source": [
    "$$\n",
    "\\begin{align}\n",
    "G(x) &= \\sum_{n = 0}^\\infty p_{n} x^{n} \\;,\\\\\n",
    "       &= \\sum_{n_1 = 0}^\\infty \\sum_{n_2 = 0}^\\infty p_{n_1} p_{n_2} x^{n_1 + n_2} \\;,\\\\\n",
    "       &= \\sum_{n_1 = 0}^\\infty  p_{n_1} x^{n_1} \\sum_{n_2 = 0}^\\infty p_{n_2} x^{n_2} \\;,\\\\\n",
    "       &= G_1(x) G_2(x) \\;,\n",
    "\\end{align}\n",
    "$$"
   ]
  },
  {
   "cell_type": "markdown",
   "id": "905ff253-1893-4397-a5b6-bf81da46e9cb",
   "metadata": {},
   "source": [
    "where on the second line, we use the fact that the joint probability distribution for two independent random variables is just the product of their respective probability distribution.\n",
    "Hence we see that summing independent random variables results in multiplying their PGF. In general, for the sum of $m$ independent random variables."
   ]
  },
  {
   "cell_type": "markdown",
   "id": "58cfeabe-bfca-4db0-922e-4a8c23282e9e",
   "metadata": {},
   "source": [
    "$$\n",
    "\\begin{align}\n",
    "G(x) &= \\sum_{n = 0}^\\infty p_{n} x^{n} \\;,\\\\\n",
    "       &= \\sum_{n_1 = 0}^\\infty \\cdots \\sum_{n_m = 0}^\\infty p_{n_1} \\cdots p_{n_m} x^{n_1 + \\dots + n_m} \\;,\\\\\n",
    "       &= \\prod_{j = 0}^m G_j(x) \\;.\n",
    "\\end{align}\n",
    "$$"
   ]
  },
  {
   "cell_type": "markdown",
   "id": "89041836-8d46-429d-a64e-92c687389f34",
   "metadata": {},
   "source": [
    "## A variable number of random variables"
   ]
  },
  {
   "cell_type": "markdown",
   "id": "22c9c48b",
   "metadata": {},
   "source": [
    "Imagine a weirder game of craps where you first roll the six-sided die, then roll and sum the results of a number of four-sided dice corresponding to the number obtained on the six-sided die. How can you quickly predict the possible outcomes? With probability $1/6$, you get a 1 and roll a single four-sided die whose outcome is generated by $g_4(x)$ defined above. With probability $1/6$, you get a 2 and are therefore summing up the results of two four-sided dice, which we just said should be generated by $g_4(x)^2$. And so on... So this weird game is really generating outcomes from a combination of known PGFs."
   ]
  },
  {
   "cell_type": "markdown",
   "id": "b4d5cf60",
   "metadata": {},
   "source": [
    "$$\n",
    "\\frac{1}{6}g_4(x) + \\frac{1}{6}g_4(x)^2 + \\frac{1}{6}g_4(x)^3 + \\frac{1}{6}g_4(x)^4 + \\frac{1}{6}g_4(x)^5 + \\frac{1}{6}g_4(x)^6 = g_6(g_4(x))\n",
    "$$"
   ]
  },
  {
   "cell_type": "markdown",
   "id": "0f8aa7f2-1833-4066-8385-f8169ad5937b",
   "metadata": {},
   "source": [
    "In truth, we are simply building on the previous property. Generally, let us assume that $G_j(x) \\equiv F(x)$ for all $j$, i.e., $n$ is the sum of $m$ independent and identically distributed random variables. Let us also assume that $m$ is now a random variable as well, with PGF $H(x)$. Then"
   ]
  },
  {
   "cell_type": "markdown",
   "id": "6f5730e6-3fa5-48ea-9f26-3083054b3e4f",
   "metadata": {},
   "source": [
    "$$\n",
    "\\begin{align}\n",
    "G(x) &= \\sum_{n = 0}^\\infty p_{n} x^{n} \\;,\\\\\n",
    "     &= \\sum_{m = 0}^\\infty p_m  \\left ( \\sum_{n_1 = 0}^\\infty \\cdots \\sum_{n_m = 0}^\\infty p_{n_1} \\cdots p_{n_m} x^{n_1 + \\dots + n_m} \\right) \\;,\\\\\n",
    "     &= \\sum_{m = 0}^\\infty p_m  F(x)^m \\;,\\\\\n",
    "     &= H(F(x)) \\;.\n",
    "\\end{align}\n",
    "$$"
   ]
  },
  {
   "cell_type": "markdown",
   "id": "1eb5e014-65eb-4418-bae7-4b32887e1521",
   "metadata": {},
   "source": [
    "Therefore, the PGF for the sum of a variable number of i.i.d random variable is simply done by taking the composition of PGFs."
   ]
  },
  {
   "cell_type": "markdown",
   "id": "678a8d52",
   "metadata": {},
   "source": [
    "## Looking ahead"
   ]
  },
  {
   "cell_type": "markdown",
   "id": "a27749e5",
   "metadata": {},
   "source": [
    "From these two properties alone, we can already imagine cases where PGFs can be useful. Imagine a ridiculous game of craps where you roll a six-sided die and a four-sided die, sum the outcomes, and roll a corresponding number of six-sided dice. This can quickly become annoying to calculate by hand or even code up! But with PGFs, things stay relatively simple. The sum of the outcomes will be generated by"
   ]
  },
  {
   "cell_type": "markdown",
   "id": "e49d08fe",
   "metadata": {},
   "source": [
    "$$\n",
    "g_6(g_6(x))\\times g_4(g_6(x))\n",
    "$$"
   ]
  }
 ],
 "metadata": {
  "kernelspec": {
   "display_name": "Python 3 (ipykernel)",
   "language": "python",
   "name": "python3"
  },
  "language_info": {
   "codemirror_mode": {
    "name": "ipython",
    "version": 3
   },
   "file_extension": ".py",
   "mimetype": "text/x-python",
   "name": "python",
   "nbconvert_exporter": "python",
   "pygments_lexer": "ipython3",
   "version": "3.10.5"
  }
 },
 "nbformat": 4,
 "nbformat_minor": 5
}
