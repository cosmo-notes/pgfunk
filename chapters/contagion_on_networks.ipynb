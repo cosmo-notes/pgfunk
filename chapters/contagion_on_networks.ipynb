{
 "cells": [
  {
   "cell_type": "markdown",
   "id": "691ff18d-6aa3-4e84-bf36-831fa03e10da",
   "metadata": {},
   "source": [
    "# Contagion on networks"
   ]
  },
  {
   "cell_type": "markdown",
   "id": "22d2120a-8744-44a5-9858-71115bc49df2",
   "metadata": {},
   "source": [
    "Coming soon"
   ]
  }
 ],
 "metadata": {
  "kernelspec": {
   "display_name": "Python 3 (ipykernel)",
   "language": "python",
   "name": "python3"
  },
  "language_info": {
   "codemirror_mode": {
    "name": "ipython",
    "version": 3
   },
   "file_extension": ".py",
   "mimetype": "text/x-python",
   "name": "python",
   "nbconvert_exporter": "python",
   "pygments_lexer": "ipython3",
   "version": "3.10.5"
  }
 },
 "nbformat": 4,
 "nbformat_minor": 5
}
