{
 "cells": [
  {
   "cell_type": "markdown",
   "id": "a9815087-958b-493c-8a7c-7e4ed6a2a1e7",
   "metadata": {},
   "source": [
    "# Branching process"
   ]
  },
  {
   "cell_type": "markdown",
   "id": "df48d4be-2dd6-457d-9576-be5ad25110f7",
   "metadata": {},
   "source": [
    "One way to understand and visualize a [branching process](https://en.wikipedia.org/wiki/Branching_process) is as a growing tree. The process starts at at time (or generation) $t = 0$ with $n_0$ nodes. At time $t$, the $n_t$ *parent* nodes each generates independently a certain number $k$ of descendents (*child* nodes) according to some *offspring* distribution $q_k$. These $n_{t+1}$ child nodes become the new parent nodes at generation $t+1$ and the process goes on forever, or until there are no more descendents at the next generation (which corresponds to an *extinction* event). Below is illustrated an example of a branching process with each node labeled by its generation."
   ]
  },
  {
   "cell_type": "markdown",
   "id": "eb0c956c-10aa-4e86-9c56-343731775f04",
   "metadata": {},
   "source": [
    "![branching](../assets/png/branching.png)"
   ]
  },
  {
   "cell_type": "markdown",
   "id": "fb99c875-b30c-4461-9c21-12f67e9cd6ca",
   "metadata": {},
   "source": [
    "This growing tree could model various situation: reproduction of bacteria, the spread of surnames, or more closely related to the main subject of this tutorial---the spread of an infectious disease in a population."
   ]
  },
  {
   "cell_type": "markdown",
   "id": "d8c061d2-fa08-4cd0-a626-8a44adde97ab",
   "metadata": {},
   "source": [
    "Some questions of interest are:\n",
    "1. What is the number of nodes at time $t$?\n",
    "2. What is the *cumulative* number of nodes at time $t$?\n",
    "3. What is the probability of extinction given some initial conditions?"
   ]
  },
  {
   "cell_type": "markdown",
   "id": "acde9146-8e85-41bf-a188-01f6a25a2525",
   "metadata": {},
   "source": [
    "Of course, to answer these questions, we will use probability generating functions. "
   ]
  },
  {
   "cell_type": "markdown",
   "id": "619c7786-ebcc-493b-b0a1-dba5a83673b7",
   "metadata": {},
   "source": [
    "## Number of nodes at a given generation"
   ]
  },
  {
   "cell_type": "markdown",
   "id": "d95a7049-b4c1-4f71-996f-556f05a7162d",
   "metadata": {},
   "source": [
    "Let us define $p_{n_t}$ the probability to have $n_t$ nodes at time $t$ and its PGF $G_t(x) = \\sum_{n_t = 0}^\\infty p_{n_t} x^{n_t}$. Let us also define $Q(x) = \\sum_{k = 0}^\\infty q_k x^k$ the PGF of the offspring distribution.\n",
    "Assuming we have $n_t$ nodes, each of them will produce *independently* some number of descendents, so the PGF for the sum of these descendent is simply $Q(x)^{n_t}$ by the properties of PGF. Since $n_t$ is also a random variable, we have that"
   ]
  },
  {
   "cell_type": "markdown",
   "id": "f4dfc47d-8740-479b-9817-74c5fb48a6ec",
   "metadata": {},
   "source": [
    "$$\n",
    "\\begin{align}\n",
    "G_{t+1}(x) &= \\sum_{n_t=0}^\\infty p_{n_t} Q(x)^{n_t} \\;, \\\\\n",
    "           &= G_t(Q(x)) \\;.\n",
    "\\end{align}\n",
    "$$"
   ]
  },
  {
   "cell_type": "markdown",
   "id": "e2738915-6abb-4d53-86d3-c781ddd5ca80",
   "metadata": {},
   "source": [
    "By recursion, we have that"
   ]
  },
  {
   "cell_type": "markdown",
   "id": "e27ce167-f845-4fe8-841a-744685a5bf6c",
   "metadata": {},
   "source": [
    "$$\n",
    "\\begin{align}\n",
    "G_{t}(x) &= G_0(Q^t(x)) \\;,\n",
    "\\end{align}\n",
    "$$"
   ]
  },
  {
   "cell_type": "markdown",
   "id": "1ea477c8-1401-4293-a39f-cee5594817ad",
   "metadata": {},
   "source": [
    "where $Q^t(x) \\equiv \\underbrace{Q \\circ Q \\circ \\cdots Q}_{t \\text{ times}}$ is the $t$-composition of $Q$ with itself and $G_0(x)$ represents the initial conditions."
   ]
  },
  {
   "cell_type": "markdown",
   "id": "077c8154-6e00-4f68-bd69-7644e215be88",
   "metadata": {},
   "source": [
    "For instance, let us consider a Poisson distribution $q_k = \\lambda^k e^{-\\lambda} / k!$ with PGF $Q(x) = e^{\\lambda (x - 1)}$ with $\\lambda = 2$, and let us assume initially there were 5 nodes, i.e., $G_0(x) = x^{5}$. Below we compute and illustrate the distribution for the number of nodes at certain generations."
   ]
  },
  {
   "cell_type": "code",
   "execution_count": 41,
   "id": "4ea9746f-fd99-485f-8b2c-f87dea4b046e",
   "metadata": {},
   "outputs": [
    {
     "data": {
      "image/png": "[encoded data removed]",
      "text/plain": [
       "<Figure size 432x288 with 1 Axes>"
      ]
     },
     "metadata": {
      "needs_background": "light"
     },
     "output_type": "display_data"
    }
   ],
   "source": [
    "import numpy as np\n",
    "import matplotlib.pyplot as plt\n",
    "\n",
    "Q = lambda x: np.exp(2*(x-1))\n",
    "G0 = lambda x: x**5\n",
    "N = 200\n",
    "n = np.arange(N)\n",
    "c = np.exp(2*np.pi*1j*n/N)\n",
    "\n",
    "tset = {1,2,3,4}\n",
    "x = c.copy()\n",
    "for t in range(max(tset)+1):\n",
    "    if t in tset:\n",
    "        pn = abs(np.fft.fft(G0(x))/N)\n",
    "        plt.plot(n,pn, label=fr\"$t = {t}$\")\n",
    "    x = Q(x)\n",
    "plt.legend()\n",
    "plt.ylabel('Probability')\n",
    "plt.xlabel('Number of nodes')\n",
    "plt.show()"
   ]
  },
  {
   "cell_type": "markdown",
   "id": "8affa56e-9a47-4444-96fa-509c0f1dcd1d",
   "metadata": {},
   "source": [
    "At each generation, the mean of the distribution increases by a factor $\\lambda = 2$ and the distribution gets broader due to the stochasticity."
   ]
  },
  {
   "cell_type": "markdown",
   "id": "b09fe76c-cb32-4131-b2fe-c4686163622e",
   "metadata": {},
   "source": [
    "## Cumulative number of nodes"
   ]
  },
  {
   "cell_type": "markdown",
   "id": "52f0a40e-35c4-41e5-a6bb-44a64899b8e0",
   "metadata": {},
   "source": [
    "Sometimes, we care more about total size of the tree; for an epidemic process, it would be the total size of the outbreak.\n",
    "To characterize, $m_t$, the cumulative number of node at time $t$, we need to consider the joint distribution $p_{n_t,m_t}$ with bivariate PGF"
   ]
  },
  {
   "cell_type": "markdown",
   "id": "c5ab8181-10cc-456f-b0c9-6a04a9279e90",
   "metadata": {},
   "source": [
    "$$\n",
    "\\begin{align}\n",
    "G_{t}(x,y)  &= \\sum_{n_t=0}^\\infty \\sum_{m_t=0}^\\infty p_{n_t,m_t} x^{n_t}y^{m_t} \\;.\n",
    "\\end{align}\n",
    "$$"
   ]
  },
  {
   "cell_type": "markdown",
   "id": "5398230c-aaee-4eaa-b435-41373cec1e76",
   "metadata": {},
   "source": [
    ":::{note}\n",
    "Even though we sum from 0 to $\\infty$ for both $n_t$ and $m_t$, the support of $p_{n_t,m_t}$ is not $\\mathbb{N}^2$, since certain values of $n_t$ are impossible given $m_t$ (for instance, it is impossible to have $n_t > m_t$).\n",
    ":::"
   ]
  },
  {
   "cell_type": "markdown",
   "id": "72e6befa-d651-429e-bbea-4202f73afafc",
   "metadata": {},
   "source": [
    "The PGF $G_t(x,y)$ follows a very similar update pattern as $G_t(x)$. In fact, if we take any node at generation $t$, the joint PGF for the number of descendent *and* the cumulative number of node it produces is $Q(xy)$---"
   ]
  },
  {
   "cell_type": "code",
   "execution_count": null,
   "id": "bb6202c6-4204-4d50-8376-c739851bdf19",
   "metadata": {},
   "outputs": [],
   "source": []
  },
  {
   "cell_type": "markdown",
   "id": "20c76595-7323-4598-8880-fc168fc6463c",
   "metadata": {},
   "source": [
    "$$\n",
    "\\begin{align}\n",
    "G_{t+1}(x,y)  &= \\sum_{n_{t+1}=0}^\\infty \\sum_{m_{t+1}=0}^\\infty p_{n_{t+1},m_{t+1}} x^{n_{t+1}}y^{m_{t+1}} \\;, \\\\\n",
    "G_{t+1}(x,y)  &= G_t(Q(xy),y) \\;.\n",
    "\\end{align}\n",
    "$$"
   ]
  },
  {
   "cell_type": "code",
   "execution_count": 46,
   "id": "1d3a19c9-27a9-4891-9013-1ce7a2ebc346",
   "metadata": {},
   "outputs": [
    {
     "data": {
      "image/png": "[encoded data removed]",
      "text/plain": [
       "<Figure size 432x288 with 1 Axes>"
      ]
     },
     "metadata": {
      "needs_background": "light"
     },
     "output_type": "display_data"
    }
   ],
   "source": [
    "import numpy as np\n",
    "import matplotlib.pyplot as plt\n",
    "\n",
    "Q = lambda x: np.exp(2*(x-1))\n",
    "G0 = lambda x: x**5\n",
    "N = 800\n",
    "n = np.arange(N)\n",
    "c = np.exp(2*np.pi*1j*n/N)\n",
    "\n",
    "tset = {1,2,3,4}\n",
    "x = c.copy()\n",
    "for t in range(max(tset)+1):\n",
    "    if t in tset:\n",
    "        pn = abs(np.fft.fft(G0(x))/N)\n",
    "        plt.plot(n,pn, label=fr\"$t = {t}$\")\n",
    "    x = x*Q(x)\n",
    "plt.legend()\n",
    "plt.ylabel('Probability')\n",
    "plt.xlabel('Number of nodes')\n",
    "plt.show()"
   ]
  }
 ],
 "metadata": {
  "kernelspec": {
   "display_name": "Python 3 (ipykernel)",
   "language": "python",
   "name": "python3"
  },
  "language_info": {
   "codemirror_mode": {
    "name": "ipython",
    "version": 3
   },
   "file_extension": ".py",
   "mimetype": "text/x-python",
   "name": "python",
   "nbconvert_exporter": "python",
   "pygments_lexer": "ipython3",
   "version": "3.10.5"
  }
 },
 "nbformat": 4,
 "nbformat_minor": 5
}
