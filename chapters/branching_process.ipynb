{
 "cells": [
  {
   "cell_type": "markdown",
   "id": "a9815087-958b-493c-8a7c-7e4ed6a2a1e7",
   "metadata": {},
   "source": [
    "# Branching process"
   ]
  },
  {
   "cell_type": "markdown",
   "id": "df48d4be-2dd6-457d-9576-be5ad25110f7",
   "metadata": {},
   "source": [
    "One way to understand and visualize a [branching process](https://en.wikipedia.org/wiki/Branching_process) is as a growing tree. The process starts at at time (or generation) $t = 0$ with $n_0$ nodes. At time $t$, the $n_t$ *parent* nodes each generates independently a certain number $k$ of descendents (*child* nodes) according to some *offspring* distribution $q_k$. These $n_{t+1}$ child nodes become the new parent nodes at generation $t+1$ and the process goes on forever, or until there are no more descendents at the next generation (which corresponds to an *extinction* event). Below is illustrated an example of a branching process with each node labeled by its generation."
   ]
  },
  {
   "cell_type": "markdown",
   "id": "eb0c956c-10aa-4e86-9c56-343731775f04",
   "metadata": {},
   "source": [
    "![branching](../assets/png/branching.png)"
   ]
  },
  {
   "cell_type": "markdown",
   "id": "fb99c875-b30c-4461-9c21-12f67e9cd6ca",
   "metadata": {},
   "source": [
    "This growing tree could model various situation: reproduction of bacteria, the spread of surnames, or more closely related to the main subject of this tutorial---the spread of an infectious disease in a population."
   ]
  },
  {
   "cell_type": "markdown",
   "id": "d8c061d2-fa08-4cd0-a626-8a44adde97ab",
   "metadata": {},
   "source": [
    "Some questions of interest are:\n",
    "1. What is the number of nodes at time $t$?\n",
    "2. What is the *cumulative* number of nodes at time $t$?\n",
    "3. What is the probability of extinction given some initial conditions?"
   ]
  },
  {
   "cell_type": "markdown",
   "id": "acde9146-8e85-41bf-a188-01f6a25a2525",
   "metadata": {},
   "source": [
    "Of course, to answer these questions, we will use probability generating functions. "
   ]
  },
  {
   "cell_type": "markdown",
   "id": "619c7786-ebcc-493b-b0a1-dba5a83673b7",
   "metadata": {},
   "source": [
    "## Number of nodes at a given generation"
   ]
  },
  {
   "cell_type": "markdown",
   "id": "d95a7049-b4c1-4f71-996f-556f05a7162d",
   "metadata": {},
   "source": [
    "Let us define $p_{n_t}$ the probability to have $n_t$ nodes at time $t$ and its PGF $G_t(x) = \\sum_{n_t = 0}^\\infty p_{n_t} x^{n_t}$. Let us also define $Q(x) = \\sum_{k = 0}^\\infty q_k x^k$ the PGF of the offspring distribution.\n",
    "Assuming we have $n_t$ nodes, each of them will produce *independently* some number of descendents, so the PGF for the sum of these descendent is simply $Q(x)^{n_t}$ by the properties of PGF. Since $n_t$ is also a random variable, we have that"
   ]
  },
  {
   "cell_type": "markdown",
   "id": "f4dfc47d-8740-479b-9817-74c5fb48a6ec",
   "metadata": {},
   "source": [
    "$$\n",
    "\\begin{align}\n",
    "G_{t+1}(x) &= \\sum_{n_t=0}^\\infty p_{n_t} Q(x)^{n_t} \\;, \\\\\n",
    "           &= G_t(Q(x)) \\;.\n",
    "\\end{align}\n",
    "$$"
   ]
  },
  {
   "cell_type": "markdown",
   "id": "e2738915-6abb-4d53-86d3-c781ddd5ca80",
   "metadata": {},
   "source": [
    "By recursion, we have that"
   ]
  },
  {
   "cell_type": "markdown",
   "id": "e27ce167-f845-4fe8-841a-744685a5bf6c",
   "metadata": {},
   "source": [
    "$$\n",
    "\\begin{align}\n",
    "G_{t}(x) &= G_0(Q^t(x)) \\;,\n",
    "\\end{align}\n",
    "$$"
   ]
  },
  {
   "cell_type": "markdown",
   "id": "1ea477c8-1401-4293-a39f-cee5594817ad",
   "metadata": {},
   "source": [
    "where $Q^t(x) \\equiv \\underbrace{Q \\circ Q \\circ \\cdots Q}_{t \\text{ times}}$ is the $t$-composition of $Q$ with itself and $G_0(x)$ represents the initial conditions."
   ]
  },
  {
   "cell_type": "markdown",
   "id": "077c8154-6e00-4f68-bd69-7644e215be88",
   "metadata": {},
   "source": [
    "For instance, let us consider a Poisson distribution $q_k = \\lambda^k e^{-\\lambda} / k!$ with PGF $Q(x) = e^{\\lambda (x - 1)}$ with $\\lambda = 2$, and let us assume initially there were 5 nodes, i.e., $G_0(x) = x^{5}$. Below we compute and illustrate the distribution for the number of nodes at certain generations."
   ]
  },
  {
   "cell_type": "code",
   "execution_count": 41,
   "id": "4ea9746f-fd99-485f-8b2c-f87dea4b046e",
   "metadata": {},
   "outputs": [
    {
     "data": {
      "image/png": "[encoded data removed]",
      "text/plain": [
       "<Figure size 432x288 with 1 Axes>"
      ]
     },
     "metadata": {
      "needs_background": "light"
     },
     "output_type": "display_data"
    }
   ],
   "source": [
    "import numpy as np\n",
    "import matplotlib.pyplot as plt\n",
    "\n",
    "Q = lambda x: np.exp(2*(x-1))\n",
    "G0 = lambda x: x**5\n",
    "N = 200\n",
    "n = np.arange(N)\n",
    "c = np.exp(2*np.pi*1j*n/N)\n",
    "\n",
    "tset = {1,2,3,4}\n",
    "x = c.copy()\n",
    "for t in range(max(tset)+1):\n",
    "    if t in tset:\n",
    "        pn = abs(np.fft.fft(G0(x))/N)\n",
    "        plt.plot(n,pn, label=fr\"$t = {t}$\")\n",
    "    x = Q(x)\n",
    "plt.legend()\n",
    "plt.ylabel('Probability')\n",
    "plt.xlabel('Number of nodes')\n",
    "plt.show()"
   ]
  },
  {
   "cell_type": "markdown",
   "id": "8affa56e-9a47-4444-96fa-509c0f1dcd1d",
   "metadata": {},
   "source": [
    "At each generation, the mean of the distribution increases by a factor $\\lambda = 2$ and the distribution gets broader due to the stochasticity."
   ]
  },
  {
   "cell_type": "markdown",
   "id": "b09fe76c-cb32-4131-b2fe-c4686163622e",
   "metadata": {},
   "source": [
    "## Cumulative number of nodes"
   ]
  },
  {
   "cell_type": "markdown",
   "id": "52f0a40e-35c4-41e5-a6bb-44a64899b8e0",
   "metadata": {},
   "source": [
    "Sometimes, we care more about total size of the tree; for an epidemic process, it would be the total size of the outbreak.\n",
    "To characterize, $m_t$, the cumulative number of node at time $t$, we need to consider the joint distribution $p_{n_t,m_t}$ with bivariate PGF"
   ]
  },
  {
   "cell_type": "markdown",
   "id": "c5ab8181-10cc-456f-b0c9-6a04a9279e90",
   "metadata": {},
   "source": [
    "$$\n",
    "\\begin{align}\n",
    "G_{t}(x,y)  &= \\sum_{n_t=0}^\\infty \\sum_{m_t=0}^\\infty p_{n_t,m_t} x^{n_t}y^{m_t} \\;.\n",
    "\\end{align}\n",
    "$$"
   ]
  },
  {
   "cell_type": "markdown",
   "id": "72e6befa-d651-429e-bbea-4202f73afafc",
   "metadata": {},
   "source": [
    "The PGF $G_t(x,y)$ follows a very similar update pattern as $G_t(x)$. In fact, if we take any node at generation $t$, the number of descendent *and* the cumulative number of node it produces is the same, therefore, its PGF is $Q(xy)$. So the PGF for the sum of descendent and cumulative number of nodes produced at generation $t$ is $Q(xy)^{n_t}$. Therefore, we have"
   ]
  },
  {
   "cell_type": "markdown",
   "id": "20c76595-7323-4598-8880-fc168fc6463c",
   "metadata": {},
   "source": [
    "$$\n",
    "\\begin{align}\n",
    "G_{t+1}(x,y)  &= \\sum_{n_{t}=0}^\\infty \\sum_{m_{t}=0}^\\infty p_{n_{t},m_{t}} Q(xy)^{n_{t}}y^{m_{t}} \\;, \\\\\n",
    "G_{t+1}(x,y)  &= G_t(Q(xy),y) \\;.\n",
    "\\end{align}\n",
    "$$"
   ]
  },
  {
   "cell_type": "markdown",
   "id": "a88c18be-feb1-4ad0-b96f-92013327462e",
   "metadata": {},
   "source": [
    "Now we could extract the joint distribution $p_{n_t,m_t}$ from this bivariate PGF, but if we only care about the cumulative number of node, we can marginalize on $n_t$ by replacing $x \\mapsto 1$ in the previous equation. Indeed, replacing a variable by 1 in a PGF is equivalent to marginalize over the underlying quantity it represents (here $n_t$). Similarly, if we substitute $y \\mapsto 1$ in the equation for $G_{t+1}(x,y)$, we recover the previous recursion for $G_{t+1}(x)$, since we marginalize over $m_t$."
   ]
  },
  {
   "cell_type": "markdown",
   "id": "40ad8c5d-06a7-4337-ae53-b7433bd89e73",
   "metadata": {},
   "source": [
    ":::{note}\n",
    "The initial conditions are now specified by the PGF $G_0(x,y)$. With 5 nodes at $t = 0$, this implies $G_0(x,y) = x^5y^5$.\n",
    ":::"
   ]
  },
  {
   "cell_type": "code",
   "execution_count": 1,
   "id": "1d3a19c9-27a9-4891-9013-1ce7a2ebc346",
   "metadata": {},
   "outputs": [
    {
     "data": {
      "image/png": "[encoded data removed]",
      "text/plain": [
       "<Figure size 432x288 with 1 Axes>"
      ]
     },
     "metadata": {
      "needs_background": "light"
     },
     "output_type": "display_data"
    }
   ],
   "source": [
    "import numpy as np\n",
    "import matplotlib.pyplot as plt\n",
    "\n",
    "Q = lambda x: np.exp(2*(x-1))\n",
    "G0 = lambda x,y: x**5*y**5\n",
    "N = 400\n",
    "n = np.arange(N)\n",
    "c = np.exp(2*np.pi*1j*n/N)\n",
    "\n",
    "tset = {1,2,3,4}\n",
    "y = c.copy()\n",
    "x = np.ones_like(c)\n",
    "for t in range(max(tset)+1):\n",
    "    if t in tset:\n",
    "        pn = abs(np.fft.fft(G0(x,y))/N)\n",
    "        plt.plot(n,pn, label=fr\"$t = {t}$\")\n",
    "    x = Q(x*y)\n",
    "    y = y\n",
    "plt.legend()\n",
    "plt.ylabel('Probability')\n",
    "plt.xlabel('Number of nodes')\n",
    "plt.show()"
   ]
  },
  {
   "cell_type": "markdown",
   "id": "949fd5c1-7e15-4cef-9246-0505adfc995e",
   "metadata": {},
   "source": [
    "## Probability of extinction"
   ]
  },
  {
   "cell_type": "markdown",
   "id": "12e4c38f-9638-4352-80df-b25851020c1c",
   "metadata": {},
   "source": [
    "Given some initial conditions specified by $G_0(x)$ and an offspring PGF $Q(x)$ (or $G_0(x,y)$ and $Q(xy)$), we want to know the probability that the process will go extinct. Since all nodes generate descendents independently, we can ask the simpler question: What is the probability $u$ that a node has a finite number of descendents. Assuming this is the case, since all descendents also generate child nodes indepdently, it must be that all descendent also have a finite number of descendent, with probability $u$. Since the number of descendent is given by the distribution $q_k$,"
   ]
  },
  {
   "cell_type": "markdown",
   "id": "88c3d968-a21b-424c-bc8d-9a21dd7697e1",
   "metadata": {},
   "source": [
    "$$\n",
    "\\begin{align}\n",
    "u &= \\sum_k q_k u^k \\;, \\\\\n",
    "  &= Q(u) \\;.\n",
    "\\end{align}\n",
    "$$"
   ]
  },
  {
   "cell_type": "markdown",
   "id": "4dfb307e-cbfc-4183-a139-7a38ac43030a",
   "metadata": {},
   "source": [
    "One can see that $u = 1$ is always a solution of this equation, but sometime there is another solution $u < 1$.\n",
    "When this is the case, then the probability of extinction is simply the probability that all initial nodes have a finite number of descendent, thus $G_0(u)$, which is also smaller than 1."
   ]
  }
 ],
 "metadata": {
  "kernelspec": {
   "display_name": "Python 3 (ipykernel)",
   "language": "python",
   "name": "python3"
  },
  "language_info": {
   "codemirror_mode": {
    "name": "ipython",
    "version": 3
   },
   "file_extension": ".py",
   "mimetype": "text/x-python",
   "name": "python",
   "nbconvert_exporter": "python",
   "pygments_lexer": "ipython3",
   "version": "3.10.5"
  }
 },
 "nbformat": 4,
 "nbformat_minor": 5
}
