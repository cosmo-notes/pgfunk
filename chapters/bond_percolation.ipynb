{
 "cells": [
  {
   "cell_type": "markdown",
   "id": "0aee77be-a127-4694-86ba-34a058c4ce4f",
   "metadata": {},
   "source": [
    "# Bond percolation"
   ]
  },
  {
   "cell_type": "code",
   "execution_count": null,
   "id": "6793546d-5129-4667-ba53-25d7b75eefe3",
   "metadata": {},
   "outputs": [],
   "source": []
  }
 ],
 "metadata": {
  "kernelspec": {
   "display_name": "Python 3 (ipykernel)",
   "language": "python",
   "name": "python3"
  },
  "language_info": {
   "codemirror_mode": {
    "name": "ipython",
    "version": 3
   },
   "file_extension": ".py",
   "mimetype": "text/x-python",
   "name": "python",
   "nbconvert_exporter": "python",
   "pygments_lexer": "ipython3",
   "version": "3.10.5"
  }
 },
 "nbformat": 4,
 "nbformat_minor": 5
}
