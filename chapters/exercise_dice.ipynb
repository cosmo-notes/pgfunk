{
 "cells": [
  {
   "cell_type": "markdown",
   "id": "11809ad2-7971-4816-b92b-4905133da2a5",
   "metadata": {
    "tags": []
   },
   "source": [
    "# Exercises part I: throwing dice"
   ]
  },
  {
   "cell_type": "markdown",
   "id": "6c211e14-5d1f-40a5-a2ed-4e2e2eba280f",
   "metadata": {},
   "source": [
    "The code below extract the probability distribution for the roll of two dice. It will serve as a basis for the following exercise."
   ]
  },
  {
   "cell_type": "code",
   "execution_count": 1,
   "id": "d4a90500-0fff-4641-b751-116fba5791cd",
   "metadata": {},
   "outputs": [
    {
     "data": {
      "image/png": "[encoded data removed]",
      "text/plain": [
       "<Figure size 432x288 with 1 Axes>"
      ]
     },
     "metadata": {
      "needs_background": "light"
     },
     "output_type": "display_data"
    }
   ],
   "source": [
    "import numpy as np\n",
    "import matplotlib.pyplot as plt\n",
    "plt.style.use(['ggplot', 'seaborn-talk'])\n",
    "\n",
    "r = 1.\n",
    "g = lambda x: np.sum([x**n/6 for n in range(1,7)])\n",
    "G = lambda x: g(x)**2\n",
    "G = np.vectorize(G)\n",
    "N = 13\n",
    "n = np.arange(N)\n",
    "c = r*np.exp(2*np.pi*1j*n/N)\n",
    "pn = abs(np.fft.fft(G(c))/(N*r**n))\n",
    "plt.bar(n,pn)\n",
    "plt.ylabel('Probability')\n",
    "plt.xlabel('Roll on two six-sided dice')\n",
    "plt.show()"
   ]
  },
  {
   "cell_type": "markdown",
   "id": "1ec51414-46c0-48bc-999a-4ec5f99a8374",
   "metadata": {},
   "source": [
    "## Choosing the right support and avoiding aliasing"
   ]
  },
  {
   "cell_type": "markdown",
   "id": "2a433c04-5fd3-4ec7-a2e4-110585673f98",
   "metadata": {},
   "source": [
    "1. Change the value of $N$, first pick N > 13, then $N < 13$. What do you notice?\n",
    "2. $n \\in \\{0,1,\\dots,N-1\\}$ is the support of your probability distribution. When $N-1$ is below 12, we have aliasing. Fix $N = 10$ and now vary $r$ between 0 and 1. What happens?\n",
    "3. Instead of rolling two dice, now get the probability distribution for the sum of 3 dice. Repeat for more dice (5,10,20). What is the shape of the resulting probability distribution?"
   ]
  },
  {
   "cell_type": "markdown",
   "id": "96610a4b-4261-48ad-afed-1e5b342601ef",
   "metadata": {},
   "source": [
    "## More complex scenarios"
   ]
  },
  {
   "cell_type": "markdown",
   "id": "3794d254-c792-435c-a02e-46e4de3b14d5",
   "metadata": {},
   "source": [
    "1. Get the probability distribution for the sum of a six-sided die and a twelve-sided die.\n",
    "2. You have dice of a very weird shape. The PGF for the roll of a single die is $g(x) = e^{x-1}$. Extract the probability distribution and make sure you eliminate aliasing effects. Do the same using two dice.\n",
    "3. You have 5 six-sided dice: two blue and three red. What is the probability that the sum of the blue dice is higher than the sum of the red dice?\n",
    "4. You roll a first six-sided die, then depending on the number you get, you roll this number of (six-sided) dice and calculate the sum. What is the probability distribution of the sum?"
   ]
  }
 ],
 "metadata": {
  "kernelspec": {
   "display_name": "Python 3 (ipykernel)",
   "language": "python",
   "name": "python3"
  },
  "language_info": {
   "codemirror_mode": {
    "name": "ipython",
    "version": 3
   },
   "file_extension": ".py",
   "mimetype": "text/x-python",
   "name": "python",
   "nbconvert_exporter": "python",
   "pygments_lexer": "ipython3",
   "version": "3.10.5"
  }
 },
 "nbformat": 4,
 "nbformat_minor": 5
}
