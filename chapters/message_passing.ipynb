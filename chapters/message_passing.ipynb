{
 "cells": [
  {
   "cell_type": "markdown",
   "id": "d832d4d1-84a4-42d6-b377-6ad33f14ec11",
   "metadata": {},
   "source": [
    "# Message passing"
   ]
  },
  {
   "cell_type": "code",
   "execution_count": null,
   "id": "b69f84e6-fee0-4dda-be6e-1f0d75357f16",
   "metadata": {},
   "outputs": [],
   "source": []
  },
  {
   "cell_type": "markdown",
   "id": "e5002c5d-e951-424a-a3b6-f6ae0ec1a014",
   "metadata": {
    "tags": []
   },
   "source": [
    "$$\n",
    "  u_{ij} = (1 - p) + p \\prod_{l\\in\\mathcal{N}_j\\backslash i} u_{jk}\n",
    "$$"
   ]
  },
  {
   "cell_type": "code",
   "execution_count": null,
   "id": "4547bb9e-e9ac-4194-bde4-145d1e3e191b",
   "metadata": {},
   "outputs": [],
   "source": []
  }
 ],
 "metadata": {
  "kernelspec": {
   "display_name": "pyenv 3.11.1",
   "language": "python",
   "name": "3.11.1"
  },
  "language_info": {
   "codemirror_mode": {
    "name": "ipython",
    "version": 3
   },
   "file_extension": ".py",
   "mimetype": "text/x-python",
   "name": "python",
   "nbconvert_exporter": "python",
   "pygments_lexer": "ipython3",
   "version": "3.11.1"
  }
 },
 "nbformat": 4,
 "nbformat_minor": 5
}
