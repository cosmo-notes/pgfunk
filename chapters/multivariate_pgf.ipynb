{
 "cells": [
  {
   "cell_type": "markdown",
   "id": "a8016e53-f847-4dd1-bbef-7268cf506de0",
   "metadata": {},
   "source": [
    "# Multivariate probability generating functions"
   ]
  },
  {
   "cell_type": "markdown",
   "id": "d51e8166-b293-4452-9763-e5ca2627dde4",
   "metadata": {},
   "source": [
    "While one can go a long way with univariate generating functions, it is limited to characterize a single random variable---or the sum of multiple *independent* random variables---, but to characterize $m$ random variables $(n_1, n_2, \\dots, n_m)$ that are not necessarily independent, we need to consider multivariate probability generating functions of the form"
   ]
  },
  {
   "cell_type": "markdown",
   "id": "5c7ef6f6-30cd-4804-8d70-b99c59a22490",
   "metadata": {},
   "source": [
    "$$\n",
    "\\begin{align}\n",
    "G(x_1,x_2,\\dots,x_m) = \\sum_{n_1 = 0}^\\infty \\cdots \\sum_{n_m = 0}^\\infty p_{n_1,n_2,\\dots,n_m} x_1^{n_1}x_2^{n_2} \\cdots x_m^{n_m} \\;,\n",
    "\\end{align}\n",
    "$$"
   ]
  },
  {
   "cell_type": "markdown",
   "id": "27b0d596-2e86-46e4-b873-e7acfa13dfbe",
   "metadata": {},
   "source": [
    "where $p_{n_1,n_2,\\dots,n_m}$ is the joint probability distribution."
   ]
  },
  {
   "cell_type": "markdown",
   "id": "bdf69d74-ff4a-413a-a316-b13f55a41f8b",
   "metadata": {},
   "source": [
    "Fortunately, all the properties we discussed previously and the numerical inversion can still be applied."
   ]
  },
  {
   "cell_type": "markdown",
   "id": "8ba6512c-dc26-4454-b051-776482f97df0",
   "metadata": {},
   "source": [
    "## Throwing dice of different colors"
   ]
  },
  {
   "cell_type": "markdown",
   "id": "93ba29bf-e638-4eb3-8839-89fd4f773717",
   "metadata": {},
   "source": [
    "Let's assume we throw three fair dice. Two of the three are blue and one is red. We calculate two sums ($n_1$ and $n_2$) by adding the number on top of the blue die with the two number on top of the red dice independently. What is the PGF for $p_{n_1,n_2}$? It is"
   ]
  },
  {
   "cell_type": "markdown",
   "id": "ac8e9727-4815-4dfb-8971-c0e6fe89cac1",
   "metadata": {},
   "source": [
    "$$\n",
    "\\begin{align}\n",
    "G(x_1,x_2) = g(x_1) g(x_2)g(x_1x_2) \\;.\n",
    "\\end{align}\n",
    "$$"
   ]
  },
  {
   "cell_type": "markdown",
   "id": "1e73ca19-03c9-4b02-ac57-088bea9c323b",
   "metadata": {},
   "source": [
    "Indeed, if $k_1$ and $k_2$ are the number on top of the red dice, and $k_3$ is the result on top of the blue die,"
   ]
  },
  {
   "cell_type": "markdown",
   "id": "520cd6d6-42b1-4450-875f-50d00c142554",
   "metadata": {},
   "source": [
    "$$\n",
    "\\begin{align}\n",
    "G(x_1,x_2) &= \\sum_{n_1=0}^{12} \\sum_{n_2=0}^{12} p_{n_1,n_2} x_1^{n_1} x_2^{n_2} \\;, \\\\\n",
    "           &= \\sum_{k_1=0}^{6} \\sum_{k_2=0}^{6} \\sum_{k_3=0}^{6} p_{k_1} p_{k_2} p_{k_3} x_1^{k_1 + k_3} x_2^{k_2 + k_3} \\;, \\\\\n",
    "           &= \\sum_{k_1=0}^{6} p_{k_1} x^{k_1} \\sum_{k_2=0}^{6}  p_{k_2} x^{k_2} \\sum_{k_3=0}^{6} p_{k_3} (x_1x_2)^{k_3} \\;, \\\\\n",
    "           &= g(x_1) g(x_2)g(x_1x_2) \\;,\n",
    "\\end{align}\n",
    "$$"
   ]
  },
  {
   "cell_type": "markdown",
   "id": "f5f85c27-3938-4a95-9805-80c1edd83a40",
   "metadata": {},
   "source": [
    "So, despite the fact that $n_1$ and $n_2$ are not independent, we can still use the independence of the underlying dice throw ($k_1$,$k_2$, and $k_3$) to construct the joint PGF by the multiplication of the PGFs representing the independent random variables."
   ]
  },
  {
   "cell_type": "markdown",
   "id": "f576a309-08be-4e96-a090-b78aec38b7fa",
   "metadata": {},
   "source": [
    "## Numerical inversion of multivariate PGFs"
   ]
  },
  {
   "cell_type": "markdown",
   "id": "0e96255d-087d-4e68-bbca-6dcab668dfbf",
   "metadata": {},
   "source": [
    "Similarly to the univariate case, the joint distribution $p_{n_1,n_2}$ is recovered from the multivariate PGF $G(x_1,x_2)$ using a discrete Fourier transform"
   ]
  },
  {
   "cell_type": "markdown",
   "id": "c79618e8-f090-46f1-aed0-c6cae7d3dfd7",
   "metadata": {},
   "source": [
    "$$\n",
    "\\begin{align}\n",
    "p_{n_1,n_2} = \\frac{1}{N_1 N_2 r_1^{n_1} r_2^{n_2} } \\sum_{m_1 = 0}^{N_1-1} \\sum_{m_2 = 0}^{N_2-1} G\\left(r_1 e^{2 \\pi i m_1 /N_1}, r_2 e^{2 \\pi i m_2 /N_2} \\right) e^{2 \\pi i  n_1 m_1 /N_1}e^{2 \\pi in_2  m_2 /N_2 } \\;.\n",
    "\\end{align}\n",
    "$$"
   ]
  },
  {
   "cell_type": "markdown",
   "id": "b87617b5-9b6d-4f56-bd3d-f55e772011ea",
   "metadata": {},
   "source": [
    "Again, $r_1$ and $r_2$ are the radii of the contour of integration in both dimensions and should be chosen wisely to limit the effect of aliasing if $N_1$ and $N_2$ are too small."
   ]
  },
  {
   "cell_type": "code",
   "execution_count": 1,
   "id": "4686561b-45c4-4f14-be5f-0eebbe667f34",
   "metadata": {},
   "outputs": [
    {
     "data": {
      "image/png": "[encoded data removed]",
      "text/plain": [
       "<Figure size 432x288 with 2 Axes>"
      ]
     },
     "metadata": {
      "needs_background": "light"
     },
     "output_type": "display_data"
    }
   ],
   "source": [
    "import numpy as np\n",
    "import matplotlib.pyplot as plt\n",
    "\n",
    "g = lambda x: np.sum([x**n/6 for n in range(1,7)])\n",
    "G = lambda x1,x2: g(x1)*g(x2)*g(x1*x2)\n",
    "G = np.vectorize(G)\n",
    "N1 = 13\n",
    "N2 = 13\n",
    "n1 = np.arange(N1)\n",
    "n2 = np.arange(N2)\n",
    "c1 = np.exp(2*np.pi*1j*n1/N1)\n",
    "c2 = np.exp(2*np.pi*1j*n2/N2)\n",
    "C1, C2 = np.meshgrid(c1, c2) #get 2d array versions\n",
    "pn1n2 = abs(np.fft.fft2(G(C1,C2))/(N1*N2))\n",
    "plt.imshow(pn1n2, origin='lower')\n",
    "plt.colorbar(label='Probability')\n",
    "plt.ylabel(r'$n_1$')\n",
    "plt.xlabel(r'$n_2$')\n",
    "plt.show()"
   ]
  },
  {
   "cell_type": "markdown",
   "id": "b9c2b4f2-9c95-4307-be83-cc6b1186be83",
   "metadata": {},
   "source": [
    "Try playing with both the dimensions ($N_1,N_2$) and the radii ($r_1,r_3$) to see the impact."
   ]
  }
 ],
 "metadata": {
  "kernelspec": {
   "display_name": "Python 3 (ipykernel)",
   "language": "python",
   "name": "python3"
  },
  "language_info": {
   "codemirror_mode": {
    "name": "ipython",
    "version": 3
   },
   "file_extension": ".py",
   "mimetype": "text/x-python",
   "name": "python",
   "nbconvert_exporter": "python",
   "pygments_lexer": "ipython3",
   "version": "3.10.5"
  }
 },
 "nbformat": 4,
 "nbformat_minor": 5
}
